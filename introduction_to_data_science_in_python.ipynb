{
  "nbformat": 4,
  "nbformat_minor": 0,
  "metadata": {
    "colab": {
      "name": "introduction_to_data-science_in_python.ipynb",
      "provenance": [],
      "collapsed_sections": []
    },
    "kernelspec": {
      "name": "python3",
      "display_name": "Python 3"
    },
    "language_info": {
      "name": "python"
    }
  },
  "cells": [
    {
      "cell_type": "code",
      "metadata": {
        "id": "3GKSnA8ECO2c"
      },
      "source": [
        "firstname='i am santhirarajah sivasthigan'.split()[-1]\n",
        "lastname='i am santhirarajah sivasthigan'.split()[2]"
      ],
      "execution_count": null,
      "outputs": []
    },
    {
      "cell_type": "code",
      "metadata": {
        "colab": {
          "base_uri": "https://localhost:8080/"
        },
        "id": "BnF_DKj1Cxhk",
        "outputId": "aedfe9f7-fb4a-412f-d6ab-9fb2d4e1eae4"
      },
      "source": [
        "print(firstname)\n",
        "print(lastname)"
      ],
      "execution_count": null,
      "outputs": [
        {
          "output_type": "stream",
          "text": [
            "sivasthigan\n",
            "santhirarajah\n"
          ],
          "name": "stdout"
        }
      ]
    },
    {
      "cell_type": "code",
      "metadata": {
        "id": "TbQNARw_C34r"
      },
      "source": [
        "nickname='sivasthigan'"
      ],
      "execution_count": null,
      "outputs": []
    },
    {
      "cell_type": "code",
      "metadata": {
        "colab": {
          "base_uri": "https://localhost:8080/"
        },
        "id": "P-3_Mq7rDC-E",
        "outputId": "7b50752a-145e-4757-e6cf-19b46b551c7f"
      },
      "source": [
        "print(nickname[0:-3])"
      ],
      "execution_count": null,
      "outputs": [
        {
          "output_type": "stream",
          "text": [
            "sivasthi\n"
          ],
          "name": "stdout"
        }
      ]
    },
    {
      "cell_type": "code",
      "metadata": {
        "colab": {
          "base_uri": "https://localhost:8080/"
        },
        "id": "h9TR0NUrDEyB",
        "outputId": "69a16257-88b2-44fc-e8e5-553c700b88f5"
      },
      "source": [
        "x={'apple':10,'orange':30,'pineapple':89}\n",
        "print(x)"
      ],
      "execution_count": null,
      "outputs": [
        {
          "output_type": "stream",
          "text": [
            "{'apple': 10, 'orange': 30, 'pineapple': 89}\n"
          ],
          "name": "stdout"
        }
      ]
    },
    {
      "cell_type": "code",
      "metadata": {
        "colab": {
          "base_uri": "https://localhost:8080/"
        },
        "id": "DavDeaSJEJMy",
        "outputId": "864dcdb0-6e8d-4afe-8742-599b0d8b208a"
      },
      "source": [
        "x['apple']"
      ],
      "execution_count": null,
      "outputs": [
        {
          "output_type": "execute_result",
          "data": {
            "text/plain": [
              "10"
            ]
          },
          "metadata": {},
          "execution_count": 29
        }
      ]
    },
    {
      "cell_type": "code",
      "metadata": {
        "colab": {
          "base_uri": "https://localhost:8080/"
        },
        "id": "6IZ1gUEqQArd",
        "outputId": "3e02d789-d6d9-4287-ba5b-411eeca4f9c3"
      },
      "source": [
        "x['orange']"
      ],
      "execution_count": null,
      "outputs": [
        {
          "output_type": "execute_result",
          "data": {
            "text/plain": [
              "30"
            ]
          },
          "metadata": {},
          "execution_count": 36
        }
      ]
    },
    {
      "cell_type": "code",
      "metadata": {
        "colab": {
          "base_uri": "https://localhost:8080/"
        },
        "id": "CalJDLS7EXXJ",
        "outputId": "7979281a-a710-48e3-c356-a2be997c92f3"
      },
      "source": [
        "for i in x:\n",
        "  print(x[i])"
      ],
      "execution_count": null,
      "outputs": [
        {
          "output_type": "stream",
          "text": [
            "10\n",
            "30\n",
            "89\n"
          ],
          "name": "stdout"
        }
      ]
    },
    {
      "cell_type": "code",
      "metadata": {
        "colab": {
          "base_uri": "https://localhost:8080/"
        },
        "id": "h6NSrFhAFOuq",
        "outputId": "2105ed4f-a766-4f8f-ca24-ace2ec480d51"
      },
      "source": [
        "sr={'name':'sivasthi','no':10, 'by':'bicycle'}\n",
        "x='{} bought {}kg of rice by riding with {}'\n",
        "y=x.format(sr['name'],sr['no'],sr['by'])\n",
        "print(y)"
      ],
      "execution_count": null,
      "outputs": [
        {
          "output_type": "stream",
          "text": [
            "sivasthi bought 10kg of rice by riding with bicycle\n"
          ],
          "name": "stdout"
        }
      ]
    },
    {
      "cell_type": "code",
      "metadata": {
        "id": "0UmIPh_2P0m-"
      },
      "source": [
        "import pandas as pd\n"
      ],
      "execution_count": null,
      "outputs": []
    },
    {
      "cell_type": "code",
      "metadata": {
        "colab": {
          "base_uri": "https://localhost:8080/",
          "height": 264
        },
        "id": "H_JCi2KCRENV",
        "outputId": "d4309f59-80ae-453c-bf0e-64fadbd3bbd8"
      },
      "source": [
        "r=pd.read_csv('/content/drive/MyDrive/people-example.csv')\n",
        "r"
      ],
      "execution_count": null,
      "outputs": [
        {
          "output_type": "execute_result",
          "data": {
            "text/html": [
              "<div>\n",
              "<style scoped>\n",
              "    .dataframe tbody tr th:only-of-type {\n",
              "        vertical-align: middle;\n",
              "    }\n",
              "\n",
              "    .dataframe tbody tr th {\n",
              "        vertical-align: top;\n",
              "    }\n",
              "\n",
              "    .dataframe thead th {\n",
              "        text-align: right;\n",
              "    }\n",
              "</style>\n",
              "<table border=\"1\" class=\"dataframe\">\n",
              "  <thead>\n",
              "    <tr style=\"text-align: right;\">\n",
              "      <th></th>\n",
              "      <th>First Name</th>\n",
              "      <th>Last Name</th>\n",
              "      <th>Country</th>\n",
              "      <th>age</th>\n",
              "    </tr>\n",
              "  </thead>\n",
              "  <tbody>\n",
              "    <tr>\n",
              "      <th>0</th>\n",
              "      <td>Bob</td>\n",
              "      <td>Smith</td>\n",
              "      <td>United States</td>\n",
              "      <td>24</td>\n",
              "    </tr>\n",
              "    <tr>\n",
              "      <th>1</th>\n",
              "      <td>Alice</td>\n",
              "      <td>Williams</td>\n",
              "      <td>Canada</td>\n",
              "      <td>23</td>\n",
              "    </tr>\n",
              "    <tr>\n",
              "      <th>2</th>\n",
              "      <td>Malcolm</td>\n",
              "      <td>Jone</td>\n",
              "      <td>England</td>\n",
              "      <td>22</td>\n",
              "    </tr>\n",
              "    <tr>\n",
              "      <th>3</th>\n",
              "      <td>Felix</td>\n",
              "      <td>Brown</td>\n",
              "      <td>USA</td>\n",
              "      <td>23</td>\n",
              "    </tr>\n",
              "    <tr>\n",
              "      <th>4</th>\n",
              "      <td>Alex</td>\n",
              "      <td>Cooper</td>\n",
              "      <td>Poland</td>\n",
              "      <td>23</td>\n",
              "    </tr>\n",
              "    <tr>\n",
              "      <th>5</th>\n",
              "      <td>Tod</td>\n",
              "      <td>Campbell</td>\n",
              "      <td>United States</td>\n",
              "      <td>22</td>\n",
              "    </tr>\n",
              "    <tr>\n",
              "      <th>6</th>\n",
              "      <td>Derek</td>\n",
              "      <td>Ward</td>\n",
              "      <td>Switzerland</td>\n",
              "      <td>25</td>\n",
              "    </tr>\n",
              "  </tbody>\n",
              "</table>\n",
              "</div>"
            ],
            "text/plain": [
              "  First Name Last Name        Country  age\n",
              "0        Bob     Smith  United States   24\n",
              "1      Alice  Williams         Canada   23\n",
              "2    Malcolm      Jone        England   22\n",
              "3      Felix     Brown            USA   23\n",
              "4       Alex    Cooper         Poland   23\n",
              "5        Tod  Campbell  United States   22\n",
              "6      Derek      Ward    Switzerland   25"
            ]
          },
          "metadata": {},
          "execution_count": 14
        }
      ]
    },
    {
      "cell_type": "code",
      "metadata": {
        "id": "X7qfaa79R-Vf"
      },
      "source": [
        "with open('/content/drive/MyDrive/people-example.csv') as csvfile:\n",
        "    msg=list(csv.DictReader(csvfile))"
      ],
      "execution_count": null,
      "outputs": []
    },
    {
      "cell_type": "code",
      "metadata": {
        "colab": {
          "base_uri": "https://localhost:8080/"
        },
        "id": "-7OSNgqPSX4S",
        "outputId": "d7970e81-11e8-48c3-a412-7421a403cfc6"
      },
      "source": [
        "msg[:3]"
      ],
      "execution_count": null,
      "outputs": [
        {
          "output_type": "execute_result",
          "data": {
            "text/plain": [
              "[OrderedDict([('First Name', 'Bob'),\n",
              "              ('Last Name', 'Smith'),\n",
              "              ('Country', 'United States'),\n",
              "              ('age', '24')]),\n",
              " OrderedDict([('First Name', 'Alice'),\n",
              "              ('Last Name', 'Williams'),\n",
              "              ('Country', 'Canada'),\n",
              "              ('age', '23')]),\n",
              " OrderedDict([('First Name', 'Malcolm'),\n",
              "              ('Last Name', 'Jone'),\n",
              "              ('Country', 'England'),\n",
              "              ('age', '22')])]"
            ]
          },
          "metadata": {},
          "execution_count": 22
        }
      ]
    },
    {
      "cell_type": "code",
      "metadata": {
        "colab": {
          "base_uri": "https://localhost:8080/"
        },
        "id": "_qhF-MabVV6v",
        "outputId": "796c1daf-baee-4b3d-99eb-d48fa1c0830e"
      },
      "source": [
        "msg[1]"
      ],
      "execution_count": null,
      "outputs": [
        {
          "output_type": "execute_result",
          "data": {
            "text/plain": [
              "OrderedDict([('First Name', 'Alice'),\n",
              "             ('Last Name', 'Williams'),\n",
              "             ('Country', 'Canada'),\n",
              "             ('age', '23')])"
            ]
          },
          "metadata": {},
          "execution_count": 27
        }
      ]
    },
    {
      "cell_type": "code",
      "metadata": {
        "colab": {
          "base_uri": "https://localhost:8080/"
        },
        "id": "qj5cIwI9Vp-W",
        "outputId": "2ab3f821-b892-4a8a-b6ea-0c37a8455f8e"
      },
      "source": [
        "msg[0].keys()"
      ],
      "execution_count": null,
      "outputs": [
        {
          "output_type": "execute_result",
          "data": {
            "text/plain": [
              "odict_keys(['First Name', 'Last Name', 'Country', 'age'])"
            ]
          },
          "metadata": {},
          "execution_count": 35
        }
      ]
    },
    {
      "cell_type": "code",
      "metadata": {
        "colab": {
          "base_uri": "https://localhost:8080/"
        },
        "id": "EQkPHKQwWFsv",
        "outputId": "39fb88bd-e127-45b2-debd-63c30ead01ed"
      },
      "source": [
        "msg[0].values()"
      ],
      "execution_count": null,
      "outputs": [
        {
          "output_type": "execute_result",
          "data": {
            "text/plain": [
              "odict_values(['Bob', 'Smith', 'United States', '24'])"
            ]
          },
          "metadata": {},
          "execution_count": 36
        }
      ]
    },
    {
      "cell_type": "code",
      "metadata": {
        "colab": {
          "base_uri": "https://localhost:8080/",
          "height": 35
        },
        "id": "3VdsIgcKXkbI",
        "outputId": "730ac932-9de0-4e82-e4da-eb6cf4e9b9c9"
      },
      "source": [
        "msg[1]['First Name']"
      ],
      "execution_count": null,
      "outputs": [
        {
          "output_type": "execute_result",
          "data": {
            "application/vnd.google.colaboratory.intrinsic+json": {
              "type": "string"
            },
            "text/plain": [
              "'Alice'"
            ]
          },
          "metadata": {},
          "execution_count": 45
        }
      ]
    },
    {
      "cell_type": "code",
      "metadata": {
        "colab": {
          "base_uri": "https://localhost:8080/"
        },
        "id": "M_mn5TSXY_iR",
        "outputId": "4725bc1b-8d07-45da-a762-84c211325a6c"
      },
      "source": [
        "len(msg)"
      ],
      "execution_count": null,
      "outputs": [
        {
          "output_type": "execute_result",
          "data": {
            "text/plain": [
              "7"
            ]
          },
          "metadata": {},
          "execution_count": 56
        }
      ]
    },
    {
      "cell_type": "code",
      "metadata": {
        "colab": {
          "base_uri": "https://localhost:8080/"
        },
        "id": "FosoPdNKXyfI",
        "outputId": "425e6ce8-b9eb-4469-bc7e-d2fde2b4c813"
      },
      "source": [
        "for i in range(len(msg)):\n",
        "  print(msg[i]['First Name'])"
      ],
      "execution_count": null,
      "outputs": [
        {
          "output_type": "stream",
          "text": [
            "Bob\n",
            "Alice\n",
            "Malcolm\n",
            "Felix\n",
            "Alex\n",
            "Tod\n",
            "Derek\n"
          ],
          "name": "stdout"
        }
      ]
    },
    {
      "cell_type": "code",
      "metadata": {
        "colab": {
          "base_uri": "https://localhost:8080/"
        },
        "id": "ywgGL8WfSfs5",
        "outputId": "2e8e859e-8cd6-40b6-ace7-11fd898e686d"
      },
      "source": [
        "for i in msg:\n",
        "  print(i)\n",
        "  "
      ],
      "execution_count": null,
      "outputs": [
        {
          "output_type": "stream",
          "text": [
            "OrderedDict([('First Name', 'Bob'), ('Last Name', 'Smith'), ('Country', 'United States'), ('age', '24')])\n",
            "OrderedDict([('First Name', 'Alice'), ('Last Name', 'Williams'), ('Country', 'Canada'), ('age', '23')])\n",
            "OrderedDict([('First Name', 'Malcolm'), ('Last Name', 'Jone'), ('Country', 'England'), ('age', '22')])\n",
            "OrderedDict([('First Name', 'Felix'), ('Last Name', 'Brown'), ('Country', 'USA'), ('age', '23')])\n",
            "OrderedDict([('First Name', 'Alex'), ('Last Name', 'Cooper'), ('Country', 'Poland'), ('age', '23')])\n",
            "OrderedDict([('First Name', 'Tod'), ('Last Name', 'Campbell'), ('Country', 'United States'), ('age', '22')])\n",
            "OrderedDict([('First Name', 'Derek'), ('Last Name', 'Ward'), ('Country', 'Switzerland'), ('age', '25')])\n"
          ],
          "name": "stdout"
        }
      ]
    },
    {
      "cell_type": "code",
      "metadata": {
        "colab": {
          "base_uri": "https://localhost:8080/"
        },
        "id": "zlFF1eT3UODq",
        "outputId": "7b6e89d8-d847-4423-f986-1ed374d37cc0"
      },
      "source": [
        "name=set(d['First Name'] for d in msg)\n",
        "name"
      ],
      "execution_count": null,
      "outputs": [
        {
          "output_type": "execute_result",
          "data": {
            "text/plain": [
              "{'Alex', 'Alice', 'Bob', 'Derek', 'Felix', 'Malcolm', 'Tod'}"
            ]
          },
          "metadata": {},
          "execution_count": 43
        }
      ]
    },
    {
      "cell_type": "code",
      "metadata": {
        "colab": {
          "base_uri": "https://localhost:8080/"
        },
        "id": "XdYR7hAcXQ63",
        "outputId": "589762ee-5395-4d43-f7c5-5924c3290dc9"
      },
      "source": [
        "people = ['Dr. Christopher Brooks', 'Dr. Kevyn Collins-Thompson', 'Dr. VG Vinod Vydiswaran', 'Dr. Daniel Romero']\n",
        "print(people[0].split()[1])\n",
        "for i in people:\n",
        "    k=i.split()[0]+i.split()[-1]\n",
        "    print(k)\n",
        "\n",
        "def split_title_and_name(person):\n",
        "        j=0\n",
        "        t=people[j].split()[0]+people[j].split()[-1]\n",
        "        j=j+1\n",
        "        return t\n",
        "     \n",
        "list(map(split_title_and_name,people))"
      ],
      "execution_count": null,
      "outputs": [
        {
          "output_type": "stream",
          "text": [
            "Christopher\n",
            "Dr.Brooks\n",
            "Dr.Collins-Thompson\n",
            "Dr.Vydiswaran\n",
            "Dr.Romero\n"
          ],
          "name": "stdout"
        },
        {
          "output_type": "execute_result",
          "data": {
            "text/plain": [
              "['Dr.Brooks', 'Dr.Brooks', 'Dr.Brooks', 'Dr.Brooks']"
            ]
          },
          "metadata": {},
          "execution_count": 85
        }
      ]
    },
    {
      "cell_type": "code",
      "metadata": {
        "colab": {
          "base_uri": "https://localhost:8080/"
        },
        "id": "y1-YQmO_iGkS",
        "outputId": "6eea9dba-2858-41de-d20c-075f85fdc76b"
      },
      "source": [
        "people = ['Dr. Christopher Brooks', 'Dr. Kevyn Collins-Thompson', 'Dr. VG Vinod Vydiswaran', 'Dr. Daniel Romero']\n",
        "for i in people:\n",
        "   def split_title_and_name(person):\n",
        "        \n",
        "      return person.split()[0]+person.split()[-1]\n",
        "        \n",
        "list(map(split_title_and_name,people))"
      ],
      "execution_count": null,
      "outputs": [
        {
          "output_type": "execute_result",
          "data": {
            "text/plain": [
              "['Dr.Brooks', 'Dr.Collins-Thompson', 'Dr.Vydiswaran', 'Dr.Romero']"
            ]
          },
          "metadata": {},
          "execution_count": 86
        }
      ]
    },
    {
      "cell_type": "code",
      "metadata": {
        "colab": {
          "base_uri": "https://localhost:8080/"
        },
        "id": "YY-e9sfPF8SP",
        "outputId": "a4ab1a9b-b3fc-4219-dfc2-9af5c55ddc79"
      },
      "source": [
        "people = ['Dr. Christopher Brooks', 'Dr. Kevyn Collins-Thompson', 'Dr. VG Vinod Vydiswaran', 'Dr. Daniel Romero']\n",
        "\n",
        "#def split_title_and_name(person):\n",
        " #   return person.split()[0] + ' ' + person.split()[-1]\n",
        "\n",
        "#option 1\n",
        "for person in people:\n",
        "    #print(split_title_and_name(person) == (lambda x: x.split()[0] + ' ' + x.split()[-1])(person))\n",
        "    y=lambda x: x.split()[0] + ' ' + x.split()[-1]\n",
        "    print(y(person))\n",
        "#option 2\n",
        "#list(map(split_title_and_name, people)) == list(map(lambda person: person.split()[0] + ' ' + person.split()[-1], people))"
      ],
      "execution_count": null,
      "outputs": [
        {
          "output_type": "stream",
          "text": [
            "Dr. Brooks\n",
            "Dr. Collins-Thompson\n",
            "Dr. Vydiswaran\n",
            "Dr. Romero\n"
          ],
          "name": "stdout"
        }
      ]
    },
    {
      "cell_type": "code",
      "metadata": {
        "colab": {
          "base_uri": "https://localhost:8080/"
        },
        "id": "WV0ubeEmGJNn",
        "outputId": "e68ce2fd-df84-4182-d92c-fc5eb1b1994c"
      },
      "source": [
        "y=[]\n",
        "for i in range(0,10):\n",
        "  if i%2==0:\n",
        "    y.append(i)\n",
        "    print(i)"
      ],
      "execution_count": null,
      "outputs": [
        {
          "output_type": "stream",
          "text": [
            "[0, 2, 4, 6, 8]\n"
          ],
          "name": "stdout"
        }
      ]
    },
    {
      "cell_type": "code",
      "metadata": {
        "colab": {
          "base_uri": "https://localhost:8080/"
        },
        "id": "6RxZDgpzHLfY",
        "outputId": "7e3ad961-2182-43d1-a9d7-397e8cc0fc43"
      },
      "source": [
        "x=[i for i in range(0,10) if i%2==0]\n",
        "print(x)"
      ],
      "execution_count": null,
      "outputs": [
        {
          "output_type": "stream",
          "text": [
            "[0, 2, 4, 6, 8]\n"
          ],
          "name": "stdout"
        }
      ]
    },
    {
      "cell_type": "code",
      "metadata": {
        "colab": {
          "base_uri": "https://localhost:8080/"
        },
        "id": "JkcZ_PjqHrmK",
        "outputId": "2b1a3225-a103-41eb-f1cc-dc45a0d5f8d7"
      },
      "source": [
        "x=[i for i in range(10)]\n",
        "print(x)\n",
        "t=[i*2 for i in range (10)]\n",
        "print(t)"
      ],
      "execution_count": null,
      "outputs": [
        {
          "output_type": "stream",
          "text": [
            "[0, 1, 2, 3, 4, 5, 6, 7, 8, 9]\n",
            "[0, 2, 4, 6, 8, 10, 12, 14, 16, 18]\n"
          ],
          "name": "stdout"
        }
      ]
    },
    {
      "cell_type": "code",
      "metadata": {
        "colab": {
          "base_uri": "https://localhost:8080/"
        },
        "id": "w9-b5tFCI0ZV",
        "outputId": "dac191f0-ab9e-4edf-817c-44484788fef5"
      },
      "source": [
        "def times_tables():\n",
        "    lst = []\n",
        "    for i in range(10):\n",
        "        for j in range (10):\n",
        "            lst.append(i*j)\n",
        "    return lst\n",
        "\n",
        "times_tables() == [i*j for i in range(10) for j in range(10) ]\n"
      ],
      "execution_count": null,
      "outputs": [
        {
          "output_type": "execute_result",
          "data": {
            "text/plain": [
              "True"
            ]
          },
          "metadata": {},
          "execution_count": 24
        }
      ]
    },
    {
      "cell_type": "markdown",
      "metadata": {
        "id": "z0rKACDRVzE6"
      },
      "source": [
        "# Array creation"
      ]
    },
    {
      "cell_type": "code",
      "metadata": {
        "id": "Otxz7bQiJ1uI"
      },
      "source": [
        "import numpy as np\n",
        "import math\n",
        "#arrays are displayed as list or list of list and can be created through list as well"
      ],
      "execution_count": null,
      "outputs": []
    },
    {
      "cell_type": "code",
      "metadata": {
        "colab": {
          "base_uri": "https://localhost:8080/"
        },
        "id": "OleRueseVdSS",
        "outputId": "e21994ec-c341-4351-8819-f7eb2efb7dc4"
      },
      "source": [
        "a=np.array([1,2,3,4])\n",
        "b=[1,2,3,4]\n",
        "print(a)\n",
        "print(b)\n",
        "#print no of dimensions of array\n",
        "print(a.ndim)"
      ],
      "execution_count": null,
      "outputs": [
        {
          "output_type": "stream",
          "text": [
            "[1 2 3 4]\n",
            "[1, 2, 3, 4]\n",
            "1\n"
          ],
          "name": "stdout"
        }
      ]
    },
    {
      "cell_type": "code",
      "metadata": {
        "colab": {
          "base_uri": "https://localhost:8080/"
        },
        "id": "H1mKzxOaVmA2",
        "outputId": "bfdcbe05-7080-43f7-8e88-69c42520dfa6"
      },
      "source": [
        "#creating multi dimensional array\n",
        "c=np.array([[1,2,3],[4,5,6]])\n",
        "print(c)\n",
        "c.shape#print the length of each dimension in tuple"
      ],
      "execution_count": null,
      "outputs": [
        {
          "output_type": "stream",
          "text": [
            "[[1 2 3]\n",
            " [4 5 6]]\n"
          ],
          "name": "stdout"
        },
        {
          "output_type": "execute_result",
          "data": {
            "text/plain": [
              "(2, 3)"
            ]
          },
          "metadata": {},
          "execution_count": 53
        }
      ]
    },
    {
      "cell_type": "code",
      "metadata": {
        "colab": {
          "base_uri": "https://localhost:8080/"
        },
        "id": "27QFZrLZbmdk",
        "outputId": "18d6c337-5932-41cd-c261-79f77dedd063"
      },
      "source": [
        "np.random.rand(2,3)"
      ],
      "execution_count": null,
      "outputs": [
        {
          "output_type": "execute_result",
          "data": {
            "text/plain": [
              "array([[0.72231178, 0.95176802, 0.47658979],\n",
              "       [0.5929817 , 0.77329374, 0.77567007]])"
            ]
          },
          "metadata": {},
          "execution_count": 61
        }
      ]
    },
    {
      "cell_type": "code",
      "metadata": {
        "colab": {
          "base_uri": "https://localhost:8080/"
        },
        "id": "mg6MemkmXroM",
        "outputId": "c9a68e1c-d62d-46ab-f46b-d4a38d18a3e7"
      },
      "source": [
        "#create an array from 10 to 50\n",
        "f=np.arange(10,50,2)\n",
        "f"
      ],
      "execution_count": null,
      "outputs": [
        {
          "output_type": "execute_result",
          "data": {
            "text/plain": [
              "array([10, 12, 14, 16, 18, 20, 22, 24, 26, 28, 30, 32, 34, 36, 38, 40, 42,\n",
              "       44, 46, 48])"
            ]
          },
          "metadata": {},
          "execution_count": 54
        }
      ]
    },
    {
      "cell_type": "code",
      "metadata": {
        "colab": {
          "base_uri": "https://localhost:8080/"
        },
        "id": "9H7Ag32faG3Z",
        "outputId": "d8de5d15-4cf3-45f8-8091-aeb7fc6f5c6a"
      },
      "source": [
        "np.linspace(0,10,20)"
      ],
      "execution_count": null,
      "outputs": [
        {
          "output_type": "execute_result",
          "data": {
            "text/plain": [
              "array([ 0.        ,  0.52631579,  1.05263158,  1.57894737,  2.10526316,\n",
              "        2.63157895,  3.15789474,  3.68421053,  4.21052632,  4.73684211,\n",
              "        5.26315789,  5.78947368,  6.31578947,  6.84210526,  7.36842105,\n",
              "        7.89473684,  8.42105263,  8.94736842,  9.47368421, 10.        ])"
            ]
          },
          "metadata": {},
          "execution_count": 60
        }
      ]
    },
    {
      "cell_type": "markdown",
      "metadata": {
        "id": "dkQljddbcROY"
      },
      "source": [
        "## Array operations"
      ]
    },
    {
      "cell_type": "code",
      "metadata": {
        "id": "RJsz3W4dbMY-"
      },
      "source": [
        "a=np.array([10,9,8,7])\n",
        "b=np.array([1,2,3,4])"
      ],
      "execution_count": null,
      "outputs": []
    },
    {
      "cell_type": "code",
      "metadata": {
        "colab": {
          "base_uri": "https://localhost:8080/"
        },
        "id": "AitUIhlfcd2M",
        "outputId": "9339d1bd-d326-4795-90c5-ff59b88e0af7"
      },
      "source": [
        "a-b\n",
        "a+b*2"
      ],
      "execution_count": null,
      "outputs": [
        {
          "output_type": "execute_result",
          "data": {
            "text/plain": [
              "array([12, 13, 14, 15])"
            ]
          },
          "metadata": {},
          "execution_count": 64
        }
      ]
    },
    {
      "cell_type": "code",
      "metadata": {
        "id": "xID0RLVRce1K"
      },
      "source": [
        ""
      ],
      "execution_count": null,
      "outputs": []
    }
  ]
}