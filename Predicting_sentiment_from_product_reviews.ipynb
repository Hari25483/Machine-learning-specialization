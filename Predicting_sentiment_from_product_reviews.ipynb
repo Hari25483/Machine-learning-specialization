{
  "cells": [
    {
      "cell_type": "code",
      "execution_count": null,
      "metadata": {
        "id": "xMdsBTtcRnWK"
      },
      "outputs": [],
      "source": [
        "import pandas as pd\n",
        "import numpy as np\n",
        "import sklearn \n",
        "from sklearn.model_selection import train_test_split\n"
      ]
    },
    {
      "cell_type": "code",
      "execution_count": null,
      "metadata": {
        "colab": {
          "base_uri": "https://localhost:8080/",
          "height": 423
        },
        "id": "5V4MKtN3SJAO",
        "outputId": "a66d0014-da72-413c-d02a-0536416387ab"
      },
      "outputs": [
        {
          "data": {
            "text/html": [
              "<div>\n",
              "<style scoped>\n",
              "    .dataframe tbody tr th:only-of-type {\n",
              "        vertical-align: middle;\n",
              "    }\n",
              "\n",
              "    .dataframe tbody tr th {\n",
              "        vertical-align: top;\n",
              "    }\n",
              "\n",
              "    .dataframe thead th {\n",
              "        text-align: right;\n",
              "    }\n",
              "</style>\n",
              "<table border=\"1\" class=\"dataframe\">\n",
              "  <thead>\n",
              "    <tr style=\"text-align: right;\">\n",
              "      <th></th>\n",
              "      <th>name</th>\n",
              "      <th>review</th>\n",
              "      <th>rating</th>\n",
              "    </tr>\n",
              "  </thead>\n",
              "  <tbody>\n",
              "    <tr>\n",
              "      <th>0</th>\n",
              "      <td>Planetwise Flannel Wipes</td>\n",
              "      <td>These flannel wipes are OK, but in my opinion ...</td>\n",
              "      <td>3</td>\n",
              "    </tr>\n",
              "    <tr>\n",
              "      <th>1</th>\n",
              "      <td>Planetwise Wipe Pouch</td>\n",
              "      <td>it came early and was not disappointed. i love...</td>\n",
              "      <td>5</td>\n",
              "    </tr>\n",
              "    <tr>\n",
              "      <th>2</th>\n",
              "      <td>Annas Dream Full Quilt with 2 Shams</td>\n",
              "      <td>Very soft and comfortable and warmer than it l...</td>\n",
              "      <td>5</td>\n",
              "    </tr>\n",
              "    <tr>\n",
              "      <th>3</th>\n",
              "      <td>Stop Pacifier Sucking without tears with Thumb...</td>\n",
              "      <td>This is a product well worth the purchase.  I ...</td>\n",
              "      <td>5</td>\n",
              "    </tr>\n",
              "    <tr>\n",
              "      <th>4</th>\n",
              "      <td>Stop Pacifier Sucking without tears with Thumb...</td>\n",
              "      <td>All of my kids have cried non-stop when I trie...</td>\n",
              "      <td>5</td>\n",
              "    </tr>\n",
              "    <tr>\n",
              "      <th>...</th>\n",
              "      <td>...</td>\n",
              "      <td>...</td>\n",
              "      <td>...</td>\n",
              "    </tr>\n",
              "    <tr>\n",
              "      <th>183526</th>\n",
              "      <td>Baby Teething Necklace for Mom Pretty Donut Sh...</td>\n",
              "      <td>Such a great idea! very handy to have and look...</td>\n",
              "      <td>5</td>\n",
              "    </tr>\n",
              "    <tr>\n",
              "      <th>183527</th>\n",
              "      <td>Baby Teething Necklace for Mom Pretty Donut Sh...</td>\n",
              "      <td>This product rocks!  It is a great blend of fu...</td>\n",
              "      <td>5</td>\n",
              "    </tr>\n",
              "    <tr>\n",
              "      <th>183528</th>\n",
              "      <td>Abstract 2 PK Baby / Toddler Training Cup (Pink)</td>\n",
              "      <td>This item looks great and cool for my kids.......</td>\n",
              "      <td>5</td>\n",
              "    </tr>\n",
              "    <tr>\n",
              "      <th>183529</th>\n",
              "      <td>Baby Food Freezer Tray - Bacteria Resistant, B...</td>\n",
              "      <td>I am extremely happy with this product. I have...</td>\n",
              "      <td>5</td>\n",
              "    </tr>\n",
              "    <tr>\n",
              "      <th>183530</th>\n",
              "      <td>Best 2 Pack Baby Car Shade for Kids - Window S...</td>\n",
              "      <td>I love this product very mush . I have bought ...</td>\n",
              "      <td>5</td>\n",
              "    </tr>\n",
              "  </tbody>\n",
              "</table>\n",
              "<p>183531 rows × 3 columns</p>\n",
              "</div>"
            ],
            "text/plain": [
              "                                                     name  ... rating\n",
              "0                                Planetwise Flannel Wipes  ...      3\n",
              "1                                   Planetwise Wipe Pouch  ...      5\n",
              "2                     Annas Dream Full Quilt with 2 Shams  ...      5\n",
              "3       Stop Pacifier Sucking without tears with Thumb...  ...      5\n",
              "4       Stop Pacifier Sucking without tears with Thumb...  ...      5\n",
              "...                                                   ...  ...    ...\n",
              "183526  Baby Teething Necklace for Mom Pretty Donut Sh...  ...      5\n",
              "183527  Baby Teething Necklace for Mom Pretty Donut Sh...  ...      5\n",
              "183528   Abstract 2 PK Baby / Toddler Training Cup (Pink)  ...      5\n",
              "183529  Baby Food Freezer Tray - Bacteria Resistant, B...  ...      5\n",
              "183530  Best 2 Pack Baby Car Shade for Kids - Window S...  ...      5\n",
              "\n",
              "[183531 rows x 3 columns]"
            ]
          },
          "execution_count": 2,
          "metadata": {},
          "output_type": "execute_result"
        }
      ],
      "source": [
        "products=pd.read_csv('/content/drive/MyDrive/amazon_baby.csv')\n",
        "products"
      ]
    },
    {
      "cell_type": "code",
      "execution_count": null,
      "metadata": {
        "id": "194xkEuXl-DJ"
      },
      "outputs": [],
      "source": [
        "products = products.fillna({'review':''})"
      ]
    },
    {
      "cell_type": "code",
      "execution_count": null,
      "metadata": {
        "colab": {
          "base_uri": "https://localhost:8080/",
          "height": 423
        },
        "id": "VmmhKUNkmAr0",
        "outputId": "cbec3fb7-90e3-41ca-f667-adee8e79f209"
      },
      "outputs": [
        {
          "data": {
            "text/html": [
              "<div>\n",
              "<style scoped>\n",
              "    .dataframe tbody tr th:only-of-type {\n",
              "        vertical-align: middle;\n",
              "    }\n",
              "\n",
              "    .dataframe tbody tr th {\n",
              "        vertical-align: top;\n",
              "    }\n",
              "\n",
              "    .dataframe thead th {\n",
              "        text-align: right;\n",
              "    }\n",
              "</style>\n",
              "<table border=\"1\" class=\"dataframe\">\n",
              "  <thead>\n",
              "    <tr style=\"text-align: right;\">\n",
              "      <th></th>\n",
              "      <th>name</th>\n",
              "      <th>review</th>\n",
              "      <th>rating</th>\n",
              "    </tr>\n",
              "  </thead>\n",
              "  <tbody>\n",
              "    <tr>\n",
              "      <th>0</th>\n",
              "      <td>Planetwise Flannel Wipes</td>\n",
              "      <td>These flannel wipes are OK, but in my opinion ...</td>\n",
              "      <td>3</td>\n",
              "    </tr>\n",
              "    <tr>\n",
              "      <th>1</th>\n",
              "      <td>Planetwise Wipe Pouch</td>\n",
              "      <td>it came early and was not disappointed. i love...</td>\n",
              "      <td>5</td>\n",
              "    </tr>\n",
              "    <tr>\n",
              "      <th>2</th>\n",
              "      <td>Annas Dream Full Quilt with 2 Shams</td>\n",
              "      <td>Very soft and comfortable and warmer than it l...</td>\n",
              "      <td>5</td>\n",
              "    </tr>\n",
              "    <tr>\n",
              "      <th>3</th>\n",
              "      <td>Stop Pacifier Sucking without tears with Thumb...</td>\n",
              "      <td>This is a product well worth the purchase.  I ...</td>\n",
              "      <td>5</td>\n",
              "    </tr>\n",
              "    <tr>\n",
              "      <th>4</th>\n",
              "      <td>Stop Pacifier Sucking without tears with Thumb...</td>\n",
              "      <td>All of my kids have cried non-stop when I trie...</td>\n",
              "      <td>5</td>\n",
              "    </tr>\n",
              "    <tr>\n",
              "      <th>...</th>\n",
              "      <td>...</td>\n",
              "      <td>...</td>\n",
              "      <td>...</td>\n",
              "    </tr>\n",
              "    <tr>\n",
              "      <th>183526</th>\n",
              "      <td>Baby Teething Necklace for Mom Pretty Donut Sh...</td>\n",
              "      <td>Such a great idea! very handy to have and look...</td>\n",
              "      <td>5</td>\n",
              "    </tr>\n",
              "    <tr>\n",
              "      <th>183527</th>\n",
              "      <td>Baby Teething Necklace for Mom Pretty Donut Sh...</td>\n",
              "      <td>This product rocks!  It is a great blend of fu...</td>\n",
              "      <td>5</td>\n",
              "    </tr>\n",
              "    <tr>\n",
              "      <th>183528</th>\n",
              "      <td>Abstract 2 PK Baby / Toddler Training Cup (Pink)</td>\n",
              "      <td>This item looks great and cool for my kids.......</td>\n",
              "      <td>5</td>\n",
              "    </tr>\n",
              "    <tr>\n",
              "      <th>183529</th>\n",
              "      <td>Baby Food Freezer Tray - Bacteria Resistant, B...</td>\n",
              "      <td>I am extremely happy with this product. I have...</td>\n",
              "      <td>5</td>\n",
              "    </tr>\n",
              "    <tr>\n",
              "      <th>183530</th>\n",
              "      <td>Best 2 Pack Baby Car Shade for Kids - Window S...</td>\n",
              "      <td>I love this product very mush . I have bought ...</td>\n",
              "      <td>5</td>\n",
              "    </tr>\n",
              "  </tbody>\n",
              "</table>\n",
              "<p>183531 rows × 3 columns</p>\n",
              "</div>"
            ],
            "text/plain": [
              "                                                     name  ... rating\n",
              "0                                Planetwise Flannel Wipes  ...      3\n",
              "1                                   Planetwise Wipe Pouch  ...      5\n",
              "2                     Annas Dream Full Quilt with 2 Shams  ...      5\n",
              "3       Stop Pacifier Sucking without tears with Thumb...  ...      5\n",
              "4       Stop Pacifier Sucking without tears with Thumb...  ...      5\n",
              "...                                                   ...  ...    ...\n",
              "183526  Baby Teething Necklace for Mom Pretty Donut Sh...  ...      5\n",
              "183527  Baby Teething Necklace for Mom Pretty Donut Sh...  ...      5\n",
              "183528   Abstract 2 PK Baby / Toddler Training Cup (Pink)  ...      5\n",
              "183529  Baby Food Freezer Tray - Bacteria Resistant, B...  ...      5\n",
              "183530  Best 2 Pack Baby Car Shade for Kids - Window S...  ...      5\n",
              "\n",
              "[183531 rows x 3 columns]"
            ]
          },
          "execution_count": 4,
          "metadata": {},
          "output_type": "execute_result"
        }
      ],
      "source": [
        "products"
      ]
    },
    {
      "cell_type": "code",
      "execution_count": null,
      "metadata": {
        "id": "oTm_v_pom97i"
      },
      "outputs": [],
      "source": [
        "def remove_punctuation(s):  \n",
        "  import string\n",
        "  translator = str.maketrans('', '', string.punctuation)\n",
        "  return s.translate(translator)"
      ]
    },
    {
      "cell_type": "code",
      "execution_count": null,
      "metadata": {
        "id": "N-EJIiyTn7-a"
      },
      "outputs": [],
      "source": [
        "products['review_clean'] = products['review'].apply(remove_punctuation)"
      ]
    },
    {
      "cell_type": "code",
      "execution_count": null,
      "metadata": {
        "colab": {
          "base_uri": "https://localhost:8080/",
          "height": 423
        },
        "id": "ync69ttuoKuj",
        "outputId": "526c04de-3afe-4580-c562-6c0becc88973"
      },
      "outputs": [
        {
          "data": {
            "text/html": [
              "<div>\n",
              "<style scoped>\n",
              "    .dataframe tbody tr th:only-of-type {\n",
              "        vertical-align: middle;\n",
              "    }\n",
              "\n",
              "    .dataframe tbody tr th {\n",
              "        vertical-align: top;\n",
              "    }\n",
              "\n",
              "    .dataframe thead th {\n",
              "        text-align: right;\n",
              "    }\n",
              "</style>\n",
              "<table border=\"1\" class=\"dataframe\">\n",
              "  <thead>\n",
              "    <tr style=\"text-align: right;\">\n",
              "      <th></th>\n",
              "      <th>name</th>\n",
              "      <th>review</th>\n",
              "      <th>rating</th>\n",
              "      <th>review_clean</th>\n",
              "    </tr>\n",
              "  </thead>\n",
              "  <tbody>\n",
              "    <tr>\n",
              "      <th>0</th>\n",
              "      <td>Planetwise Flannel Wipes</td>\n",
              "      <td>These flannel wipes are OK, but in my opinion ...</td>\n",
              "      <td>3</td>\n",
              "      <td>These flannel wipes are OK but in my opinion n...</td>\n",
              "    </tr>\n",
              "    <tr>\n",
              "      <th>1</th>\n",
              "      <td>Planetwise Wipe Pouch</td>\n",
              "      <td>it came early and was not disappointed. i love...</td>\n",
              "      <td>5</td>\n",
              "      <td>it came early and was not disappointed i love ...</td>\n",
              "    </tr>\n",
              "    <tr>\n",
              "      <th>2</th>\n",
              "      <td>Annas Dream Full Quilt with 2 Shams</td>\n",
              "      <td>Very soft and comfortable and warmer than it l...</td>\n",
              "      <td>5</td>\n",
              "      <td>Very soft and comfortable and warmer than it l...</td>\n",
              "    </tr>\n",
              "    <tr>\n",
              "      <th>3</th>\n",
              "      <td>Stop Pacifier Sucking without tears with Thumb...</td>\n",
              "      <td>This is a product well worth the purchase.  I ...</td>\n",
              "      <td>5</td>\n",
              "      <td>This is a product well worth the purchase  I h...</td>\n",
              "    </tr>\n",
              "    <tr>\n",
              "      <th>4</th>\n",
              "      <td>Stop Pacifier Sucking without tears with Thumb...</td>\n",
              "      <td>All of my kids have cried non-stop when I trie...</td>\n",
              "      <td>5</td>\n",
              "      <td>All of my kids have cried nonstop when I tried...</td>\n",
              "    </tr>\n",
              "    <tr>\n",
              "      <th>...</th>\n",
              "      <td>...</td>\n",
              "      <td>...</td>\n",
              "      <td>...</td>\n",
              "      <td>...</td>\n",
              "    </tr>\n",
              "    <tr>\n",
              "      <th>183526</th>\n",
              "      <td>Baby Teething Necklace for Mom Pretty Donut Sh...</td>\n",
              "      <td>Such a great idea! very handy to have and look...</td>\n",
              "      <td>5</td>\n",
              "      <td>Such a great idea very handy to have and look ...</td>\n",
              "    </tr>\n",
              "    <tr>\n",
              "      <th>183527</th>\n",
              "      <td>Baby Teething Necklace for Mom Pretty Donut Sh...</td>\n",
              "      <td>This product rocks!  It is a great blend of fu...</td>\n",
              "      <td>5</td>\n",
              "      <td>This product rocks  It is a great blend of fun...</td>\n",
              "    </tr>\n",
              "    <tr>\n",
              "      <th>183528</th>\n",
              "      <td>Abstract 2 PK Baby / Toddler Training Cup (Pink)</td>\n",
              "      <td>This item looks great and cool for my kids.......</td>\n",
              "      <td>5</td>\n",
              "      <td>This item looks great and cool for my kidsI kn...</td>\n",
              "    </tr>\n",
              "    <tr>\n",
              "      <th>183529</th>\n",
              "      <td>Baby Food Freezer Tray - Bacteria Resistant, B...</td>\n",
              "      <td>I am extremely happy with this product. I have...</td>\n",
              "      <td>5</td>\n",
              "      <td>I am extremely happy with this product I have ...</td>\n",
              "    </tr>\n",
              "    <tr>\n",
              "      <th>183530</th>\n",
              "      <td>Best 2 Pack Baby Car Shade for Kids - Window S...</td>\n",
              "      <td>I love this product very mush . I have bought ...</td>\n",
              "      <td>5</td>\n",
              "      <td>I love this product very mush  I have bought m...</td>\n",
              "    </tr>\n",
              "  </tbody>\n",
              "</table>\n",
              "<p>183531 rows × 4 columns</p>\n",
              "</div>"
            ],
            "text/plain": [
              "                                                     name  ...                                       review_clean\n",
              "0                                Planetwise Flannel Wipes  ...  These flannel wipes are OK but in my opinion n...\n",
              "1                                   Planetwise Wipe Pouch  ...  it came early and was not disappointed i love ...\n",
              "2                     Annas Dream Full Quilt with 2 Shams  ...  Very soft and comfortable and warmer than it l...\n",
              "3       Stop Pacifier Sucking without tears with Thumb...  ...  This is a product well worth the purchase  I h...\n",
              "4       Stop Pacifier Sucking without tears with Thumb...  ...  All of my kids have cried nonstop when I tried...\n",
              "...                                                   ...  ...                                                ...\n",
              "183526  Baby Teething Necklace for Mom Pretty Donut Sh...  ...  Such a great idea very handy to have and look ...\n",
              "183527  Baby Teething Necklace for Mom Pretty Donut Sh...  ...  This product rocks  It is a great blend of fun...\n",
              "183528   Abstract 2 PK Baby / Toddler Training Cup (Pink)  ...  This item looks great and cool for my kidsI kn...\n",
              "183529  Baby Food Freezer Tray - Bacteria Resistant, B...  ...  I am extremely happy with this product I have ...\n",
              "183530  Best 2 Pack Baby Car Shade for Kids - Window S...  ...  I love this product very mush  I have bought m...\n",
              "\n",
              "[183531 rows x 4 columns]"
            ]
          },
          "execution_count": 7,
          "metadata": {},
          "output_type": "execute_result"
        }
      ],
      "source": [
        "products"
      ]
    },
    {
      "cell_type": "code",
      "execution_count": null,
      "metadata": {
        "id": "XdT9x9q6pm63"
      },
      "outputs": [],
      "source": [
        "products=products[products['rating']!=3]"
      ]
    },
    {
      "cell_type": "code",
      "execution_count": null,
      "metadata": {
        "colab": {
          "base_uri": "https://localhost:8080/",
          "height": 423
        },
        "id": "WJ-rmSnzQM7C",
        "outputId": "46d7bf88-0eb1-425f-8dee-10ade49802c9"
      },
      "outputs": [
        {
          "data": {
            "text/html": [
              "<div>\n",
              "<style scoped>\n",
              "    .dataframe tbody tr th:only-of-type {\n",
              "        vertical-align: middle;\n",
              "    }\n",
              "\n",
              "    .dataframe tbody tr th {\n",
              "        vertical-align: top;\n",
              "    }\n",
              "\n",
              "    .dataframe thead th {\n",
              "        text-align: right;\n",
              "    }\n",
              "</style>\n",
              "<table border=\"1\" class=\"dataframe\">\n",
              "  <thead>\n",
              "    <tr style=\"text-align: right;\">\n",
              "      <th></th>\n",
              "      <th>name</th>\n",
              "      <th>review</th>\n",
              "      <th>rating</th>\n",
              "      <th>review_clean</th>\n",
              "    </tr>\n",
              "  </thead>\n",
              "  <tbody>\n",
              "    <tr>\n",
              "      <th>1</th>\n",
              "      <td>Planetwise Wipe Pouch</td>\n",
              "      <td>it came early and was not disappointed. i love...</td>\n",
              "      <td>5</td>\n",
              "      <td>it came early and was not disappointed i love ...</td>\n",
              "    </tr>\n",
              "    <tr>\n",
              "      <th>2</th>\n",
              "      <td>Annas Dream Full Quilt with 2 Shams</td>\n",
              "      <td>Very soft and comfortable and warmer than it l...</td>\n",
              "      <td>5</td>\n",
              "      <td>Very soft and comfortable and warmer than it l...</td>\n",
              "    </tr>\n",
              "    <tr>\n",
              "      <th>3</th>\n",
              "      <td>Stop Pacifier Sucking without tears with Thumb...</td>\n",
              "      <td>This is a product well worth the purchase.  I ...</td>\n",
              "      <td>5</td>\n",
              "      <td>This is a product well worth the purchase  I h...</td>\n",
              "    </tr>\n",
              "    <tr>\n",
              "      <th>4</th>\n",
              "      <td>Stop Pacifier Sucking without tears with Thumb...</td>\n",
              "      <td>All of my kids have cried non-stop when I trie...</td>\n",
              "      <td>5</td>\n",
              "      <td>All of my kids have cried nonstop when I tried...</td>\n",
              "    </tr>\n",
              "    <tr>\n",
              "      <th>5</th>\n",
              "      <td>Stop Pacifier Sucking without tears with Thumb...</td>\n",
              "      <td>When the Binky Fairy came to our house, we did...</td>\n",
              "      <td>5</td>\n",
              "      <td>When the Binky Fairy came to our house we didn...</td>\n",
              "    </tr>\n",
              "    <tr>\n",
              "      <th>...</th>\n",
              "      <td>...</td>\n",
              "      <td>...</td>\n",
              "      <td>...</td>\n",
              "      <td>...</td>\n",
              "    </tr>\n",
              "    <tr>\n",
              "      <th>183526</th>\n",
              "      <td>Baby Teething Necklace for Mom Pretty Donut Sh...</td>\n",
              "      <td>Such a great idea! very handy to have and look...</td>\n",
              "      <td>5</td>\n",
              "      <td>Such a great idea very handy to have and look ...</td>\n",
              "    </tr>\n",
              "    <tr>\n",
              "      <th>183527</th>\n",
              "      <td>Baby Teething Necklace for Mom Pretty Donut Sh...</td>\n",
              "      <td>This product rocks!  It is a great blend of fu...</td>\n",
              "      <td>5</td>\n",
              "      <td>This product rocks  It is a great blend of fun...</td>\n",
              "    </tr>\n",
              "    <tr>\n",
              "      <th>183528</th>\n",
              "      <td>Abstract 2 PK Baby / Toddler Training Cup (Pink)</td>\n",
              "      <td>This item looks great and cool for my kids.......</td>\n",
              "      <td>5</td>\n",
              "      <td>This item looks great and cool for my kidsI kn...</td>\n",
              "    </tr>\n",
              "    <tr>\n",
              "      <th>183529</th>\n",
              "      <td>Baby Food Freezer Tray - Bacteria Resistant, B...</td>\n",
              "      <td>I am extremely happy with this product. I have...</td>\n",
              "      <td>5</td>\n",
              "      <td>I am extremely happy with this product I have ...</td>\n",
              "    </tr>\n",
              "    <tr>\n",
              "      <th>183530</th>\n",
              "      <td>Best 2 Pack Baby Car Shade for Kids - Window S...</td>\n",
              "      <td>I love this product very mush . I have bought ...</td>\n",
              "      <td>5</td>\n",
              "      <td>I love this product very mush  I have bought m...</td>\n",
              "    </tr>\n",
              "  </tbody>\n",
              "</table>\n",
              "<p>166752 rows × 4 columns</p>\n",
              "</div>"
            ],
            "text/plain": [
              "                                                     name  ...                                       review_clean\n",
              "1                                   Planetwise Wipe Pouch  ...  it came early and was not disappointed i love ...\n",
              "2                     Annas Dream Full Quilt with 2 Shams  ...  Very soft and comfortable and warmer than it l...\n",
              "3       Stop Pacifier Sucking without tears with Thumb...  ...  This is a product well worth the purchase  I h...\n",
              "4       Stop Pacifier Sucking without tears with Thumb...  ...  All of my kids have cried nonstop when I tried...\n",
              "5       Stop Pacifier Sucking without tears with Thumb...  ...  When the Binky Fairy came to our house we didn...\n",
              "...                                                   ...  ...                                                ...\n",
              "183526  Baby Teething Necklace for Mom Pretty Donut Sh...  ...  Such a great idea very handy to have and look ...\n",
              "183527  Baby Teething Necklace for Mom Pretty Donut Sh...  ...  This product rocks  It is a great blend of fun...\n",
              "183528   Abstract 2 PK Baby / Toddler Training Cup (Pink)  ...  This item looks great and cool for my kidsI kn...\n",
              "183529  Baby Food Freezer Tray - Bacteria Resistant, B...  ...  I am extremely happy with this product I have ...\n",
              "183530  Best 2 Pack Baby Car Shade for Kids - Window S...  ...  I love this product very mush  I have bought m...\n",
              "\n",
              "[166752 rows x 4 columns]"
            ]
          },
          "execution_count": 9,
          "metadata": {},
          "output_type": "execute_result"
        }
      ],
      "source": [
        "products"
      ]
    },
    {
      "cell_type": "code",
      "execution_count": null,
      "metadata": {
        "colab": {
          "base_uri": "https://localhost:8080/"
        },
        "id": "UQwlN9T8QVoG",
        "outputId": "3fe02330-59a8-4cf4-cb7a-20ec52d869f5"
      },
      "outputs": [
        {
          "name": "stderr",
          "output_type": "stream",
          "text": [
            "/usr/local/lib/python3.7/dist-packages/ipykernel_launcher.py:1: SettingWithCopyWarning: \n",
            "A value is trying to be set on a copy of a slice from a DataFrame.\n",
            "Try using .loc[row_indexer,col_indexer] = value instead\n",
            "\n",
            "See the caveats in the documentation: https://pandas.pydata.org/pandas-docs/stable/user_guide/indexing.html#returning-a-view-versus-a-copy\n",
            "  \"\"\"Entry point for launching an IPython kernel.\n"
          ]
        }
      ],
      "source": [
        "products['sentiment']=products['rating'].apply(lambda rating:+1 if rating>3 else -1)"
      ]
    },
    {
      "cell_type": "code",
      "execution_count": null,
      "metadata": {
        "colab": {
          "base_uri": "https://localhost:8080/",
          "height": 423
        },
        "id": "FPltMwOHSKX_",
        "outputId": "ba86e613-6066-4e0d-dd13-c11afc34eec4"
      },
      "outputs": [
        {
          "data": {
            "text/html": [
              "<div>\n",
              "<style scoped>\n",
              "    .dataframe tbody tr th:only-of-type {\n",
              "        vertical-align: middle;\n",
              "    }\n",
              "\n",
              "    .dataframe tbody tr th {\n",
              "        vertical-align: top;\n",
              "    }\n",
              "\n",
              "    .dataframe thead th {\n",
              "        text-align: right;\n",
              "    }\n",
              "</style>\n",
              "<table border=\"1\" class=\"dataframe\">\n",
              "  <thead>\n",
              "    <tr style=\"text-align: right;\">\n",
              "      <th></th>\n",
              "      <th>name</th>\n",
              "      <th>review</th>\n",
              "      <th>rating</th>\n",
              "      <th>review_clean</th>\n",
              "      <th>sentiment</th>\n",
              "    </tr>\n",
              "  </thead>\n",
              "  <tbody>\n",
              "    <tr>\n",
              "      <th>1</th>\n",
              "      <td>Planetwise Wipe Pouch</td>\n",
              "      <td>it came early and was not disappointed. i love...</td>\n",
              "      <td>5</td>\n",
              "      <td>it came early and was not disappointed i love ...</td>\n",
              "      <td>1</td>\n",
              "    </tr>\n",
              "    <tr>\n",
              "      <th>2</th>\n",
              "      <td>Annas Dream Full Quilt with 2 Shams</td>\n",
              "      <td>Very soft and comfortable and warmer than it l...</td>\n",
              "      <td>5</td>\n",
              "      <td>Very soft and comfortable and warmer than it l...</td>\n",
              "      <td>1</td>\n",
              "    </tr>\n",
              "    <tr>\n",
              "      <th>3</th>\n",
              "      <td>Stop Pacifier Sucking without tears with Thumb...</td>\n",
              "      <td>This is a product well worth the purchase.  I ...</td>\n",
              "      <td>5</td>\n",
              "      <td>This is a product well worth the purchase  I h...</td>\n",
              "      <td>1</td>\n",
              "    </tr>\n",
              "    <tr>\n",
              "      <th>4</th>\n",
              "      <td>Stop Pacifier Sucking without tears with Thumb...</td>\n",
              "      <td>All of my kids have cried non-stop when I trie...</td>\n",
              "      <td>5</td>\n",
              "      <td>All of my kids have cried nonstop when I tried...</td>\n",
              "      <td>1</td>\n",
              "    </tr>\n",
              "    <tr>\n",
              "      <th>5</th>\n",
              "      <td>Stop Pacifier Sucking without tears with Thumb...</td>\n",
              "      <td>When the Binky Fairy came to our house, we did...</td>\n",
              "      <td>5</td>\n",
              "      <td>When the Binky Fairy came to our house we didn...</td>\n",
              "      <td>1</td>\n",
              "    </tr>\n",
              "    <tr>\n",
              "      <th>...</th>\n",
              "      <td>...</td>\n",
              "      <td>...</td>\n",
              "      <td>...</td>\n",
              "      <td>...</td>\n",
              "      <td>...</td>\n",
              "    </tr>\n",
              "    <tr>\n",
              "      <th>183526</th>\n",
              "      <td>Baby Teething Necklace for Mom Pretty Donut Sh...</td>\n",
              "      <td>Such a great idea! very handy to have and look...</td>\n",
              "      <td>5</td>\n",
              "      <td>Such a great idea very handy to have and look ...</td>\n",
              "      <td>1</td>\n",
              "    </tr>\n",
              "    <tr>\n",
              "      <th>183527</th>\n",
              "      <td>Baby Teething Necklace for Mom Pretty Donut Sh...</td>\n",
              "      <td>This product rocks!  It is a great blend of fu...</td>\n",
              "      <td>5</td>\n",
              "      <td>This product rocks  It is a great blend of fun...</td>\n",
              "      <td>1</td>\n",
              "    </tr>\n",
              "    <tr>\n",
              "      <th>183528</th>\n",
              "      <td>Abstract 2 PK Baby / Toddler Training Cup (Pink)</td>\n",
              "      <td>This item looks great and cool for my kids.......</td>\n",
              "      <td>5</td>\n",
              "      <td>This item looks great and cool for my kidsI kn...</td>\n",
              "      <td>1</td>\n",
              "    </tr>\n",
              "    <tr>\n",
              "      <th>183529</th>\n",
              "      <td>Baby Food Freezer Tray - Bacteria Resistant, B...</td>\n",
              "      <td>I am extremely happy with this product. I have...</td>\n",
              "      <td>5</td>\n",
              "      <td>I am extremely happy with this product I have ...</td>\n",
              "      <td>1</td>\n",
              "    </tr>\n",
              "    <tr>\n",
              "      <th>183530</th>\n",
              "      <td>Best 2 Pack Baby Car Shade for Kids - Window S...</td>\n",
              "      <td>I love this product very mush . I have bought ...</td>\n",
              "      <td>5</td>\n",
              "      <td>I love this product very mush  I have bought m...</td>\n",
              "      <td>1</td>\n",
              "    </tr>\n",
              "  </tbody>\n",
              "</table>\n",
              "<p>166752 rows × 5 columns</p>\n",
              "</div>"
            ],
            "text/plain": [
              "                                                     name  ... sentiment\n",
              "1                                   Planetwise Wipe Pouch  ...         1\n",
              "2                     Annas Dream Full Quilt with 2 Shams  ...         1\n",
              "3       Stop Pacifier Sucking without tears with Thumb...  ...         1\n",
              "4       Stop Pacifier Sucking without tears with Thumb...  ...         1\n",
              "5       Stop Pacifier Sucking without tears with Thumb...  ...         1\n",
              "...                                                   ...  ...       ...\n",
              "183526  Baby Teething Necklace for Mom Pretty Donut Sh...  ...         1\n",
              "183527  Baby Teething Necklace for Mom Pretty Donut Sh...  ...         1\n",
              "183528   Abstract 2 PK Baby / Toddler Training Cup (Pink)  ...         1\n",
              "183529  Baby Food Freezer Tray - Bacteria Resistant, B...  ...         1\n",
              "183530  Best 2 Pack Baby Car Shade for Kids - Window S...  ...         1\n",
              "\n",
              "[166752 rows x 5 columns]"
            ]
          },
          "execution_count": 11,
          "metadata": {},
          "output_type": "execute_result"
        }
      ],
      "source": [
        "products"
      ]
    },
    {
      "cell_type": "code",
      "execution_count": null,
      "metadata": {
        "colab": {
          "base_uri": "https://localhost:8080/"
        },
        "id": "W1q-5nVZSQEL",
        "outputId": "ac779cc0-5995-4adc-f1ae-820fb511db40"
      },
      "outputs": [
        {
          "name": "stdout",
          "output_type": "stream",
          "text": [
            "[0, 1, 2]\n",
            "[8, 9, 14]\n"
          ]
        }
      ],
      "source": [
        "import json\n",
        "with open('/content/drive/MyDrive/sentimentpred/module-2-assignment-test-idx.json') as test_data_file:    \n",
        "    test_data_idx = json.load(test_data_file)\n",
        "with open('/content/drive/MyDrive/sentimentpred/module-2-assignment-train-idx.json') as train_data_file:    \n",
        "    train_data_idx = json.load(train_data_file)\n",
        "\n",
        "print (train_data_idx[:3])\n",
        "print (test_data_idx[:3])"
      ]
    },
    {
      "cell_type": "code",
      "execution_count": null,
      "metadata": {
        "id": "SfaqP9Ic3TKX"
      },
      "outputs": [],
      "source": [
        "train_data=products.iloc[train_data_idx]"
      ]
    },
    {
      "cell_type": "code",
      "execution_count": null,
      "metadata": {
        "colab": {
          "base_uri": "https://localhost:8080/",
          "height": 206
        },
        "id": "1-hHbFh13ldQ",
        "outputId": "50a98f2e-4b84-46d5-a13c-31913e115752"
      },
      "outputs": [
        {
          "data": {
            "text/html": [
              "<div>\n",
              "<style scoped>\n",
              "    .dataframe tbody tr th:only-of-type {\n",
              "        vertical-align: middle;\n",
              "    }\n",
              "\n",
              "    .dataframe tbody tr th {\n",
              "        vertical-align: top;\n",
              "    }\n",
              "\n",
              "    .dataframe thead th {\n",
              "        text-align: right;\n",
              "    }\n",
              "</style>\n",
              "<table border=\"1\" class=\"dataframe\">\n",
              "  <thead>\n",
              "    <tr style=\"text-align: right;\">\n",
              "      <th></th>\n",
              "      <th>name</th>\n",
              "      <th>review</th>\n",
              "      <th>rating</th>\n",
              "      <th>review_clean</th>\n",
              "      <th>sentiment</th>\n",
              "    </tr>\n",
              "  </thead>\n",
              "  <tbody>\n",
              "    <tr>\n",
              "      <th>1</th>\n",
              "      <td>Planetwise Wipe Pouch</td>\n",
              "      <td>it came early and was not disappointed. i love...</td>\n",
              "      <td>5</td>\n",
              "      <td>it came early and was not disappointed i love ...</td>\n",
              "      <td>1</td>\n",
              "    </tr>\n",
              "    <tr>\n",
              "      <th>2</th>\n",
              "      <td>Annas Dream Full Quilt with 2 Shams</td>\n",
              "      <td>Very soft and comfortable and warmer than it l...</td>\n",
              "      <td>5</td>\n",
              "      <td>Very soft and comfortable and warmer than it l...</td>\n",
              "      <td>1</td>\n",
              "    </tr>\n",
              "    <tr>\n",
              "      <th>3</th>\n",
              "      <td>Stop Pacifier Sucking without tears with Thumb...</td>\n",
              "      <td>This is a product well worth the purchase.  I ...</td>\n",
              "      <td>5</td>\n",
              "      <td>This is a product well worth the purchase  I h...</td>\n",
              "      <td>1</td>\n",
              "    </tr>\n",
              "    <tr>\n",
              "      <th>4</th>\n",
              "      <td>Stop Pacifier Sucking without tears with Thumb...</td>\n",
              "      <td>All of my kids have cried non-stop when I trie...</td>\n",
              "      <td>5</td>\n",
              "      <td>All of my kids have cried nonstop when I tried...</td>\n",
              "      <td>1</td>\n",
              "    </tr>\n",
              "    <tr>\n",
              "      <th>5</th>\n",
              "      <td>Stop Pacifier Sucking without tears with Thumb...</td>\n",
              "      <td>When the Binky Fairy came to our house, we did...</td>\n",
              "      <td>5</td>\n",
              "      <td>When the Binky Fairy came to our house we didn...</td>\n",
              "      <td>1</td>\n",
              "    </tr>\n",
              "  </tbody>\n",
              "</table>\n",
              "</div>"
            ],
            "text/plain": [
              "                                                name  ... sentiment\n",
              "1                              Planetwise Wipe Pouch  ...         1\n",
              "2                Annas Dream Full Quilt with 2 Shams  ...         1\n",
              "3  Stop Pacifier Sucking without tears with Thumb...  ...         1\n",
              "4  Stop Pacifier Sucking without tears with Thumb...  ...         1\n",
              "5  Stop Pacifier Sucking without tears with Thumb...  ...         1\n",
              "\n",
              "[5 rows x 5 columns]"
            ]
          },
          "execution_count": 14,
          "metadata": {},
          "output_type": "execute_result"
        }
      ],
      "source": [
        "train_data.head()"
      ]
    },
    {
      "cell_type": "code",
      "execution_count": null,
      "metadata": {
        "colab": {
          "base_uri": "https://localhost:8080/",
          "height": 206
        },
        "id": "Ucj4bynW4ESw",
        "outputId": "bf14e4d1-5ecd-47c9-9766-4c65fcec84bb"
      },
      "outputs": [
        {
          "data": {
            "text/html": [
              "<div>\n",
              "<style scoped>\n",
              "    .dataframe tbody tr th:only-of-type {\n",
              "        vertical-align: middle;\n",
              "    }\n",
              "\n",
              "    .dataframe tbody tr th {\n",
              "        vertical-align: top;\n",
              "    }\n",
              "\n",
              "    .dataframe thead th {\n",
              "        text-align: right;\n",
              "    }\n",
              "</style>\n",
              "<table border=\"1\" class=\"dataframe\">\n",
              "  <thead>\n",
              "    <tr style=\"text-align: right;\">\n",
              "      <th></th>\n",
              "      <th>name</th>\n",
              "      <th>review</th>\n",
              "      <th>rating</th>\n",
              "      <th>review_clean</th>\n",
              "      <th>sentiment</th>\n",
              "    </tr>\n",
              "  </thead>\n",
              "  <tbody>\n",
              "    <tr>\n",
              "      <th>9</th>\n",
              "      <td>Baby Tracker&amp;reg; - Daily Childcare Journal, S...</td>\n",
              "      <td>This has been an easy way for my nanny to reco...</td>\n",
              "      <td>4</td>\n",
              "      <td>This has been an easy way for my nanny to reco...</td>\n",
              "      <td>1</td>\n",
              "    </tr>\n",
              "    <tr>\n",
              "      <th>10</th>\n",
              "      <td>Baby Tracker&amp;reg; - Daily Childcare Journal, S...</td>\n",
              "      <td>I love this journal and our nanny uses it ever...</td>\n",
              "      <td>4</td>\n",
              "      <td>I love this journal and our nanny uses it ever...</td>\n",
              "      <td>1</td>\n",
              "    </tr>\n",
              "    <tr>\n",
              "      <th>16</th>\n",
              "      <td>Nature's Lullabies First Year Sticker Calendar</td>\n",
              "      <td>I love this little calender, you can keep trac...</td>\n",
              "      <td>5</td>\n",
              "      <td>I love this little calender you can keep track...</td>\n",
              "      <td>1</td>\n",
              "    </tr>\n",
              "    <tr>\n",
              "      <th>20</th>\n",
              "      <td>Nature's Lullabies Second Year Sticker Calendar</td>\n",
              "      <td>I had a hard time finding a second year calend...</td>\n",
              "      <td>5</td>\n",
              "      <td>I had a hard time finding a second year calend...</td>\n",
              "      <td>1</td>\n",
              "    </tr>\n",
              "    <tr>\n",
              "      <th>28</th>\n",
              "      <td>Lamaze Peekaboo, I Love You</td>\n",
              "      <td>One of baby's first and favorite books, and it...</td>\n",
              "      <td>4</td>\n",
              "      <td>One of babys first and favorite books and it i...</td>\n",
              "      <td>1</td>\n",
              "    </tr>\n",
              "  </tbody>\n",
              "</table>\n",
              "</div>"
            ],
            "text/plain": [
              "                                                 name  ... sentiment\n",
              "9   Baby Tracker&reg; - Daily Childcare Journal, S...  ...         1\n",
              "10  Baby Tracker&reg; - Daily Childcare Journal, S...  ...         1\n",
              "16     Nature's Lullabies First Year Sticker Calendar  ...         1\n",
              "20    Nature's Lullabies Second Year Sticker Calendar  ...         1\n",
              "28                        Lamaze Peekaboo, I Love You  ...         1\n",
              "\n",
              "[5 rows x 5 columns]"
            ]
          },
          "execution_count": 15,
          "metadata": {},
          "output_type": "execute_result"
        }
      ],
      "source": [
        "test_data = products.iloc[test_data_idx]\n",
        "test_data.head()\n"
      ]
    },
    {
      "cell_type": "code",
      "execution_count": null,
      "metadata": {
        "id": "hBc3Yl2Q4G2E"
      },
      "outputs": [],
      "source": [
        "from sklearn.feature_extraction.text import CountVectorizer\n",
        "\n",
        "vectorizer = CountVectorizer(token_pattern=r'\\b\\w+\\b')\n",
        "     # Use this token pattern to keep single-letter words\n",
        "# First, learn vocabulary from the training data and assign columns to words\n",
        "# Then convert the training data into a sparse matrix\n",
        "train_matrix = vectorizer.fit_transform(train_data['review_clean'])\n",
        "# Second, convert the test data into a sparse matrix, using the same word-column mapping\n",
        "test_matrix = vectorizer.transform(test_data['review_clean'])"
      ]
    },
    {
      "cell_type": "code",
      "execution_count": null,
      "metadata": {
        "colab": {
          "base_uri": "https://localhost:8080/"
        },
        "id": "NbR2I2qT--28",
        "outputId": "d12b7a1c-4939-4b2f-d2ba-8c1d8e0b165f"
      },
      "outputs": [
        {
          "name": "stderr",
          "output_type": "stream",
          "text": [
            "/usr/local/lib/python3.7/dist-packages/sklearn/linear_model/_logistic.py:818: ConvergenceWarning: lbfgs failed to converge (status=1):\n",
            "STOP: TOTAL NO. of ITERATIONS REACHED LIMIT.\n",
            "\n",
            "Increase the number of iterations (max_iter) or scale the data as shown in:\n",
            "    https://scikit-learn.org/stable/modules/preprocessing.html\n",
            "Please also refer to the documentation for alternative solver options:\n",
            "    https://scikit-learn.org/stable/modules/linear_model.html#logistic-regression\n",
            "  extra_warning_msg=_LOGISTIC_SOLVER_CONVERGENCE_MSG,\n"
          ]
        },
        {
          "data": {
            "text/plain": [
              "LogisticRegression()"
            ]
          },
          "execution_count": 17,
          "metadata": {},
          "output_type": "execute_result"
        }
      ],
      "source": [
        "from sklearn.linear_model import LogisticRegression\n",
        "sentiment_model = LogisticRegression()\n",
        "sentiment_model.fit(train_matrix, train_data['sentiment'])"
      ]
    },
    {
      "cell_type": "code",
      "execution_count": null,
      "metadata": {
        "colab": {
          "base_uri": "https://localhost:8080/"
        },
        "id": "40YNKKhdAA7o",
        "outputId": "e424d90c-3883-4ac7-fc6c-7de0afc3f602"
      },
      "outputs": [
        {
          "data": {
            "text/plain": [
              "90360"
            ]
          },
          "execution_count": 18,
          "metadata": {},
          "output_type": "execute_result"
        }
      ],
      "source": [
        "np.sum(sentiment_model.coef_ >= 0)\n"
      ]
    },
    {
      "cell_type": "code",
      "execution_count": null,
      "metadata": {
        "id": "eEc9fP__AC8M"
      },
      "outputs": [],
      "source": [
        "sample_test_data=test_data.iloc[10:13]"
      ]
    },
    {
      "cell_type": "code",
      "execution_count": null,
      "metadata": {
        "colab": {
          "base_uri": "https://localhost:8080/",
          "height": 143
        },
        "id": "XFm0rChZCgg7",
        "outputId": "298e888b-1710-4fd0-d695-e75d0415709b"
      },
      "outputs": [
        {
          "data": {
            "text/html": [
              "<div>\n",
              "<style scoped>\n",
              "    .dataframe tbody tr th:only-of-type {\n",
              "        vertical-align: middle;\n",
              "    }\n",
              "\n",
              "    .dataframe tbody tr th {\n",
              "        vertical-align: top;\n",
              "    }\n",
              "\n",
              "    .dataframe thead th {\n",
              "        text-align: right;\n",
              "    }\n",
              "</style>\n",
              "<table border=\"1\" class=\"dataframe\">\n",
              "  <thead>\n",
              "    <tr style=\"text-align: right;\">\n",
              "      <th></th>\n",
              "      <th>name</th>\n",
              "      <th>review</th>\n",
              "      <th>rating</th>\n",
              "      <th>review_clean</th>\n",
              "      <th>sentiment</th>\n",
              "    </tr>\n",
              "  </thead>\n",
              "  <tbody>\n",
              "    <tr>\n",
              "      <th>59</th>\n",
              "      <td>Our Baby Girl Memory Book</td>\n",
              "      <td>Absolutely love it and all of the Scripture in...</td>\n",
              "      <td>5</td>\n",
              "      <td>Absolutely love it and all of the Scripture in...</td>\n",
              "      <td>1</td>\n",
              "    </tr>\n",
              "    <tr>\n",
              "      <th>71</th>\n",
              "      <td>Wall Decor Removable Decal Sticker - Colorful ...</td>\n",
              "      <td>Would not purchase again or recommend. The dec...</td>\n",
              "      <td>2</td>\n",
              "      <td>Would not purchase again or recommend The deca...</td>\n",
              "      <td>-1</td>\n",
              "    </tr>\n",
              "    <tr>\n",
              "      <th>91</th>\n",
              "      <td>New Style Trailing Cherry Blossom Tree Decal R...</td>\n",
              "      <td>Was so excited to get this product for my baby...</td>\n",
              "      <td>1</td>\n",
              "      <td>Was so excited to get this product for my baby...</td>\n",
              "      <td>-1</td>\n",
              "    </tr>\n",
              "  </tbody>\n",
              "</table>\n",
              "</div>"
            ],
            "text/plain": [
              "                                                 name  ... sentiment\n",
              "59                          Our Baby Girl Memory Book  ...         1\n",
              "71  Wall Decor Removable Decal Sticker - Colorful ...  ...        -1\n",
              "91  New Style Trailing Cherry Blossom Tree Decal R...  ...        -1\n",
              "\n",
              "[3 rows x 5 columns]"
            ]
          },
          "execution_count": 20,
          "metadata": {},
          "output_type": "execute_result"
        }
      ],
      "source": [
        "sample_test_data"
      ]
    },
    {
      "cell_type": "code",
      "execution_count": null,
      "metadata": {
        "id": "TP94etUZCh1Y"
      },
      "outputs": [],
      "source": [
        "sample_test_matrix=vectorizer.transform(sample_test_data['review_clean'])\n"
      ]
    },
    {
      "cell_type": "code",
      "execution_count": null,
      "metadata": {
        "colab": {
          "base_uri": "https://localhost:8080/"
        },
        "id": "7fVI7KpVC4j4",
        "outputId": "fb649808-4349-47b2-acbb-37a415d0248c"
      },
      "outputs": [
        {
          "data": {
            "text/plain": [
              "array([ 1, -1, -1])"
            ]
          },
          "execution_count": 22,
          "metadata": {},
          "output_type": "execute_result"
        }
      ],
      "source": [
        "sentiment_model.predict(sample_test_matrix)"
      ]
    },
    {
      "cell_type": "code",
      "execution_count": null,
      "metadata": {
        "colab": {
          "base_uri": "https://localhost:8080/"
        },
        "id": "jnlztlq-DGrm",
        "outputId": "3db491ba-b171-44a8-c3b1-3951be12eebd"
      },
      "outputs": [
        {
          "data": {
            "text/plain": [
              "array([  4.8951336 ,  -3.20137131, -10.15834422])"
            ]
          },
          "execution_count": 23,
          "metadata": {},
          "output_type": "execute_result"
        }
      ],
      "source": [
        "sentiment_model.decision_function(sample_test_matrix)"
      ]
    },
    {
      "cell_type": "code",
      "execution_count": null,
      "metadata": {
        "colab": {
          "base_uri": "https://localhost:8080/"
        },
        "id": "j_byUcrCDOgx",
        "outputId": "1c3e80a4-a8ea-4412-c368-af172b582f37"
      },
      "outputs": [
        {
          "data": {
            "text/plain": [
              "array([ 2.26883388, 14.70276475,  2.82367937, ..., 10.28124528,\n",
              "       11.0317498 ,  4.46838428])"
            ]
          },
          "execution_count": 24,
          "metadata": {},
          "output_type": "execute_result"
        }
      ],
      "source": [
        "test_scores=sentiment_model.decision_function(test_matrix)\n",
        "test_scores"
      ]
    },
    {
      "cell_type": "code",
      "execution_count": null,
      "metadata": {
        "colab": {
          "base_uri": "https://localhost:8080/"
        },
        "id": "TQnYK9WFFwKI",
        "outputId": "166d4833-f7bd-4d53-98bc-5f024d955f7c"
      },
      "outputs": [
        {
          "data": {
            "text/plain": [
              "array([18112, 15732, 21531, 25554, 24286, 30634,  9555, 24899, 32782,\n",
              "       20743,  2570, 30535, 30297, 26830,  9125, 14482, 26838, 33060,\n",
              "       17558, 31224])"
            ]
          },
          "execution_count": 25,
          "metadata": {},
          "output_type": "execute_result"
        }
      ],
      "source": [
        "positive_idx = np.argsort(-test_scores)[:20]\n",
        "positive_idx\n"
      ]
    },
    {
      "cell_type": "code",
      "execution_count": null,
      "metadata": {
        "colab": {
          "base_uri": "https://localhost:8080/"
        },
        "id": "jxQWCsY1F2oR",
        "outputId": "cb3a1d07-b1f4-487f-83da-b169723483e4"
      },
      "outputs": [
        {
          "name": "stdout",
          "output_type": "stream",
          "text": [
            "46.08255976109098\n"
          ]
        }
      ],
      "source": [
        "print (test_scores[positive_idx[0]])\n"
      ]
    },
    {
      "cell_type": "code",
      "execution_count": null,
      "metadata": {
        "colab": {
          "base_uri": "https://localhost:8080/",
          "height": 676
        },
        "id": "cLZoXWN7GVIV",
        "outputId": "1eeeabcf-2944-448a-b8e1-859394673ae7"
      },
      "outputs": [
        {
          "data": {
            "text/html": [
              "<div>\n",
              "<style scoped>\n",
              "    .dataframe tbody tr th:only-of-type {\n",
              "        vertical-align: middle;\n",
              "    }\n",
              "\n",
              "    .dataframe tbody tr th {\n",
              "        vertical-align: top;\n",
              "    }\n",
              "\n",
              "    .dataframe thead th {\n",
              "        text-align: right;\n",
              "    }\n",
              "</style>\n",
              "<table border=\"1\" class=\"dataframe\">\n",
              "  <thead>\n",
              "    <tr style=\"text-align: right;\">\n",
              "      <th></th>\n",
              "      <th>name</th>\n",
              "      <th>review</th>\n",
              "      <th>rating</th>\n",
              "      <th>review_clean</th>\n",
              "      <th>sentiment</th>\n",
              "    </tr>\n",
              "  </thead>\n",
              "  <tbody>\n",
              "    <tr>\n",
              "      <th>100166</th>\n",
              "      <td>Infantino Wrap and Tie Baby Carrier, Black Blu...</td>\n",
              "      <td>I bought this carrier when my daughter was abo...</td>\n",
              "      <td>5</td>\n",
              "      <td>I bought this carrier when my daughter was abo...</td>\n",
              "      <td>1</td>\n",
              "    </tr>\n",
              "    <tr>\n",
              "      <th>87017</th>\n",
              "      <td>Baby Einstein Around The World Discovery Center</td>\n",
              "      <td>I am so HAPPY I brought this item for my 7 mon...</td>\n",
              "      <td>5</td>\n",
              "      <td>I am so HAPPY I brought this item for my 7 mon...</td>\n",
              "      <td>1</td>\n",
              "    </tr>\n",
              "    <tr>\n",
              "      <th>119182</th>\n",
              "      <td>Roan Rocco Classic Pram Stroller 2-in-1 with B...</td>\n",
              "      <td>Great Pram Rocco!!!!!!I bought this pram from ...</td>\n",
              "      <td>5</td>\n",
              "      <td>Great Pram RoccoI bought this pram from Europe...</td>\n",
              "      <td>1</td>\n",
              "    </tr>\n",
              "    <tr>\n",
              "      <th>140816</th>\n",
              "      <td>Diono RadianRXT Convertible Car Seat, Plum</td>\n",
              "      <td>I bought this seat for my tall (38in) and thin...</td>\n",
              "      <td>5</td>\n",
              "      <td>I bought this seat for my tall 38in and thin 2...</td>\n",
              "      <td>1</td>\n",
              "    </tr>\n",
              "    <tr>\n",
              "      <th>133651</th>\n",
              "      <td>Britax 2012 B-Agile Stroller, Red</td>\n",
              "      <td>[I got this stroller for my daughter prior to ...</td>\n",
              "      <td>4</td>\n",
              "      <td>I got this stroller for my daughter prior to t...</td>\n",
              "      <td>1</td>\n",
              "    </tr>\n",
              "    <tr>\n",
              "      <th>168697</th>\n",
              "      <td>Graco FastAction Fold Jogger Click Connect Str...</td>\n",
              "      <td>Graco's FastAction Jogging Stroller definitely...</td>\n",
              "      <td>5</td>\n",
              "      <td>Gracos FastAction Jogging Stroller definitely ...</td>\n",
              "      <td>1</td>\n",
              "    </tr>\n",
              "    <tr>\n",
              "      <th>52631</th>\n",
              "      <td>Evenflo X Sport Plus Convenience Stroller - Ch...</td>\n",
              "      <td>After seeing this in Parent's Magazine and rea...</td>\n",
              "      <td>5</td>\n",
              "      <td>After seeing this in Parents Magazine and read...</td>\n",
              "      <td>1</td>\n",
              "    </tr>\n",
              "    <tr>\n",
              "      <th>137034</th>\n",
              "      <td>Graco Pack 'n Play Element Playard - Flint</td>\n",
              "      <td>My husband and I assembled this Pack n' Play l...</td>\n",
              "      <td>4</td>\n",
              "      <td>My husband and I assembled this Pack n Play la...</td>\n",
              "      <td>1</td>\n",
              "    </tr>\n",
              "    <tr>\n",
              "      <th>180646</th>\n",
              "      <td>Mamas &amp;amp; Papas 2014 Urbo2 Stroller - Black</td>\n",
              "      <td>After much research I purchased an Urbo2. It's...</td>\n",
              "      <td>4</td>\n",
              "      <td>After much research I purchased an Urbo2 Its e...</td>\n",
              "      <td>1</td>\n",
              "    </tr>\n",
              "    <tr>\n",
              "      <th>114796</th>\n",
              "      <td>Fisher-Price Cradle 'N Swing,  My Little Snuga...</td>\n",
              "      <td>My husband and I cannot state enough how much ...</td>\n",
              "      <td>5</td>\n",
              "      <td>My husband and I cannot state enough how much ...</td>\n",
              "      <td>1</td>\n",
              "    </tr>\n",
              "    <tr>\n",
              "      <th>14008</th>\n",
              "      <td>Stork Craft Beatrice Combo Tower Chest, White</td>\n",
              "      <td>I bought the tower despite the bad reviews and...</td>\n",
              "      <td>5</td>\n",
              "      <td>I bought the tower despite the bad reviews and...</td>\n",
              "      <td>1</td>\n",
              "    </tr>\n",
              "    <tr>\n",
              "      <th>168081</th>\n",
              "      <td>Buttons Cloth Diaper Cover - One Size - 8 Colo...</td>\n",
              "      <td>We are big Best Bottoms fans here, but I wante...</td>\n",
              "      <td>4</td>\n",
              "      <td>We are big Best Bottoms fans here but I wanted...</td>\n",
              "      <td>1</td>\n",
              "    </tr>\n",
              "    <tr>\n",
              "      <th>166827</th>\n",
              "      <td>Britax Boulevard 70-G3 Convertible Car Seat Se...</td>\n",
              "      <td>We just purchased this seat for our eight mont...</td>\n",
              "      <td>5</td>\n",
              "      <td>We just purchased this seat for our eight mont...</td>\n",
              "      <td>1</td>\n",
              "    </tr>\n",
              "    <tr>\n",
              "      <th>147949</th>\n",
              "      <td>Baby Jogger City Mini GT Single Stroller, Shad...</td>\n",
              "      <td>Amazing, Love, Love, Love it !!! All 5 STARS a...</td>\n",
              "      <td>5</td>\n",
              "      <td>Amazing Love Love Love it  All 5 STARS all the...</td>\n",
              "      <td>1</td>\n",
              "    </tr>\n",
              "    <tr>\n",
              "      <th>50315</th>\n",
              "      <td>P'Kolino Silly Soft Seating in Tias, Green</td>\n",
              "      <td>I've purchased both the P'Kolino Little Reader...</td>\n",
              "      <td>4</td>\n",
              "      <td>Ive purchased both the PKolino Little Reader C...</td>\n",
              "      <td>1</td>\n",
              "    </tr>\n",
              "    <tr>\n",
              "      <th>80155</th>\n",
              "      <td>Simple Wishes Hands-Free Breastpump Bra, Pink,...</td>\n",
              "      <td>I just tried this hands free breastpump bra, a...</td>\n",
              "      <td>5</td>\n",
              "      <td>I just tried this hands free breastpump bra an...</td>\n",
              "      <td>1</td>\n",
              "    </tr>\n",
              "    <tr>\n",
              "      <th>147996</th>\n",
              "      <td>Baby Jogger City Mini GT Double Stroller, Shad...</td>\n",
              "      <td>We are well pleased with this stroller, and I ...</td>\n",
              "      <td>4</td>\n",
              "      <td>We are well pleased with this stroller and I w...</td>\n",
              "      <td>1</td>\n",
              "    </tr>\n",
              "    <tr>\n",
              "      <th>182089</th>\n",
              "      <td>Summer Infant Wide View Digital Color Video Mo...</td>\n",
              "      <td>I love this baby monitor.  I can compare this ...</td>\n",
              "      <td>5</td>\n",
              "      <td>I love this baby monitor  I can compare this o...</td>\n",
              "      <td>1</td>\n",
              "    </tr>\n",
              "    <tr>\n",
              "      <th>97325</th>\n",
              "      <td>Freemie Hands-Free Concealable Breast Pump Col...</td>\n",
              "      <td>I absolutely love this product.  I work as a C...</td>\n",
              "      <td>5</td>\n",
              "      <td>I absolutely love this product  I work as a Cu...</td>\n",
              "      <td>1</td>\n",
              "    </tr>\n",
              "    <tr>\n",
              "      <th>172085</th>\n",
              "      <td>Stokke Scoot Stroller - Light Green</td>\n",
              "      <td>We've been using the Stokke Scoot for about a ...</td>\n",
              "      <td>5</td>\n",
              "      <td>Weve been using the Stokke Scoot for about a y...</td>\n",
              "      <td>1</td>\n",
              "    </tr>\n",
              "  </tbody>\n",
              "</table>\n",
              "</div>"
            ],
            "text/plain": [
              "                                                     name  ... sentiment\n",
              "100166  Infantino Wrap and Tie Baby Carrier, Black Blu...  ...         1\n",
              "87017     Baby Einstein Around The World Discovery Center  ...         1\n",
              "119182  Roan Rocco Classic Pram Stroller 2-in-1 with B...  ...         1\n",
              "140816         Diono RadianRXT Convertible Car Seat, Plum  ...         1\n",
              "133651                  Britax 2012 B-Agile Stroller, Red  ...         1\n",
              "168697  Graco FastAction Fold Jogger Click Connect Str...  ...         1\n",
              "52631   Evenflo X Sport Plus Convenience Stroller - Ch...  ...         1\n",
              "137034         Graco Pack 'n Play Element Playard - Flint  ...         1\n",
              "180646      Mamas &amp; Papas 2014 Urbo2 Stroller - Black  ...         1\n",
              "114796  Fisher-Price Cradle 'N Swing,  My Little Snuga...  ...         1\n",
              "14008       Stork Craft Beatrice Combo Tower Chest, White  ...         1\n",
              "168081  Buttons Cloth Diaper Cover - One Size - 8 Colo...  ...         1\n",
              "166827  Britax Boulevard 70-G3 Convertible Car Seat Se...  ...         1\n",
              "147949  Baby Jogger City Mini GT Single Stroller, Shad...  ...         1\n",
              "50315          P'Kolino Silly Soft Seating in Tias, Green  ...         1\n",
              "80155   Simple Wishes Hands-Free Breastpump Bra, Pink,...  ...         1\n",
              "147996  Baby Jogger City Mini GT Double Stroller, Shad...  ...         1\n",
              "182089  Summer Infant Wide View Digital Color Video Mo...  ...         1\n",
              "97325   Freemie Hands-Free Concealable Breast Pump Col...  ...         1\n",
              "172085                Stokke Scoot Stroller - Light Green  ...         1\n",
              "\n",
              "[20 rows x 5 columns]"
            ]
          },
          "execution_count": 27,
          "metadata": {},
          "output_type": "execute_result"
        }
      ],
      "source": [
        "test_data.iloc[positive_idx]\n"
      ]
    },
    {
      "cell_type": "code",
      "execution_count": null,
      "metadata": {
        "colab": {
          "base_uri": "https://localhost:8080/",
          "height": 729
        },
        "id": "IiWXFVeTGdHc",
        "outputId": "4e78b7c1-056e-4d89-9eef-de3ca1de552b"
      },
      "outputs": [
        {
          "name": "stdout",
          "output_type": "stream",
          "text": [
            "[17069  2931 28184 21700  8818 17222  9655 31928 14711 30373 17034 10814\n",
            " 13752  5831 13939 17428 13751  1942   205 20594]\n",
            "-31.994102893551005\n"
          ]
        },
        {
          "data": {
            "text/html": [
              "<div>\n",
              "<style scoped>\n",
              "    .dataframe tbody tr th:only-of-type {\n",
              "        vertical-align: middle;\n",
              "    }\n",
              "\n",
              "    .dataframe tbody tr th {\n",
              "        vertical-align: top;\n",
              "    }\n",
              "\n",
              "    .dataframe thead th {\n",
              "        text-align: right;\n",
              "    }\n",
              "</style>\n",
              "<table border=\"1\" class=\"dataframe\">\n",
              "  <thead>\n",
              "    <tr style=\"text-align: right;\">\n",
              "      <th></th>\n",
              "      <th>name</th>\n",
              "      <th>review</th>\n",
              "      <th>rating</th>\n",
              "      <th>review_clean</th>\n",
              "      <th>sentiment</th>\n",
              "    </tr>\n",
              "  </thead>\n",
              "  <tbody>\n",
              "    <tr>\n",
              "      <th>94560</th>\n",
              "      <td>The First Years True Choice P400 Premium Digit...</td>\n",
              "      <td>Note: we never installed batteries in these un...</td>\n",
              "      <td>1</td>\n",
              "      <td>Note we never installed batteries in these uni...</td>\n",
              "      <td>-1</td>\n",
              "    </tr>\n",
              "    <tr>\n",
              "      <th>16042</th>\n",
              "      <td>Fisher-Price Ocean Wonders Aquarium Bouncer</td>\n",
              "      <td>We have not had ANY luck with Fisher-Price pro...</td>\n",
              "      <td>2</td>\n",
              "      <td>We have not had ANY luck with FisherPrice prod...</td>\n",
              "      <td>-1</td>\n",
              "    </tr>\n",
              "    <tr>\n",
              "      <th>155287</th>\n",
              "      <td>VTech Communications Safe &amp;amp; Sounds Full Co...</td>\n",
              "      <td>This is my second video monitoring system, the...</td>\n",
              "      <td>1</td>\n",
              "      <td>This is my second video monitoring system the ...</td>\n",
              "      <td>-1</td>\n",
              "    </tr>\n",
              "    <tr>\n",
              "      <th>120209</th>\n",
              "      <td>Levana Safe N'See Digital Video Baby Monitor w...</td>\n",
              "      <td>This is the first review I have ever written o...</td>\n",
              "      <td>1</td>\n",
              "      <td>This is the first review I have ever written o...</td>\n",
              "      <td>-1</td>\n",
              "    </tr>\n",
              "    <tr>\n",
              "      <th>48694</th>\n",
              "      <td>Adiri BPA Free Natural Nurser Ultimate Bottle ...</td>\n",
              "      <td>I will try to write an objective review of the...</td>\n",
              "      <td>2</td>\n",
              "      <td>I will try to write an objective review of the...</td>\n",
              "      <td>-1</td>\n",
              "    </tr>\n",
              "    <tr>\n",
              "      <th>95420</th>\n",
              "      <td>One Step Ahead Hide-Away Extra Long Bed Rail</td>\n",
              "      <td>I bought a brand new 56\" hide-away bed safety ...</td>\n",
              "      <td>1</td>\n",
              "      <td>I bought a brand new 56 hideaway bed safety ra...</td>\n",
              "      <td>-1</td>\n",
              "    </tr>\n",
              "    <tr>\n",
              "      <th>53207</th>\n",
              "      <td>Safety 1st High-Def Digital Monitor</td>\n",
              "      <td>We bought this baby monitor to replace a diffe...</td>\n",
              "      <td>1</td>\n",
              "      <td>We bought this baby monitor to replace a diffe...</td>\n",
              "      <td>-1</td>\n",
              "    </tr>\n",
              "    <tr>\n",
              "      <th>176046</th>\n",
              "      <td>Baby Trend Inertia Infant Car Seat - Horizon</td>\n",
              "      <td>I really wanted to love this seat; however, I ...</td>\n",
              "      <td>1</td>\n",
              "      <td>I really wanted to love this seat however I wo...</td>\n",
              "      <td>-1</td>\n",
              "    </tr>\n",
              "    <tr>\n",
              "      <th>81332</th>\n",
              "      <td>Cloth Diaper Sprayer--styles may vary</td>\n",
              "      <td>I bought this sprayer out of desperation durin...</td>\n",
              "      <td>1</td>\n",
              "      <td>I bought this sprayer out of desperation durin...</td>\n",
              "      <td>-1</td>\n",
              "    </tr>\n",
              "    <tr>\n",
              "      <th>167249</th>\n",
              "      <td>Samsung SEW-3037W Wireless Pan Tilt Video Baby...</td>\n",
              "      <td>Reviewers. You failed me!This thing worked for...</td>\n",
              "      <td>1</td>\n",
              "      <td>Reviewers You failed meThis thing worked for 2...</td>\n",
              "      <td>-1</td>\n",
              "    </tr>\n",
              "    <tr>\n",
              "      <th>94389</th>\n",
              "      <td>Snuza Portable Baby Movement Monitor</td>\n",
              "      <td>I would have given the product 4 stars for whi...</td>\n",
              "      <td>1</td>\n",
              "      <td>I would have given the product 4 stars for whi...</td>\n",
              "      <td>-1</td>\n",
              "    </tr>\n",
              "    <tr>\n",
              "      <th>59546</th>\n",
              "      <td>Ellaroo Mei Tai Baby Carrier - Hershey</td>\n",
              "      <td>This is basically an overpriced piece of fabri...</td>\n",
              "      <td>1</td>\n",
              "      <td>This is basically an overpriced piece of fabri...</td>\n",
              "      <td>-1</td>\n",
              "    </tr>\n",
              "    <tr>\n",
              "      <th>76000</th>\n",
              "      <td>Peg-Perego Tatamia High Chair, White Latte</td>\n",
              "      <td>I ordered this high chair with the brown seat ...</td>\n",
              "      <td>1</td>\n",
              "      <td>I ordered this high chair with the brown seat ...</td>\n",
              "      <td>-1</td>\n",
              "    </tr>\n",
              "    <tr>\n",
              "      <th>31741</th>\n",
              "      <td>Regalo My Cot Portable Bed, Royal Blue</td>\n",
              "      <td>If I could give this product zero stars I woul...</td>\n",
              "      <td>1</td>\n",
              "      <td>If I could give this product zero stars I woul...</td>\n",
              "      <td>-1</td>\n",
              "    </tr>\n",
              "    <tr>\n",
              "      <th>77072</th>\n",
              "      <td>Safety 1st Exchangeable Tip 3 in 1 Thermometer</td>\n",
              "      <td>I thought it sounded great to have different t...</td>\n",
              "      <td>1</td>\n",
              "      <td>I thought it sounded great to have different t...</td>\n",
              "      <td>-1</td>\n",
              "    </tr>\n",
              "    <tr>\n",
              "      <th>96572</th>\n",
              "      <td>Baby Jogger Summit XC Double Stroller, Red/Black</td>\n",
              "      <td>Received Jogger as a shower gift so it sat in ...</td>\n",
              "      <td>1</td>\n",
              "      <td>Received Jogger as a shower gift so it sat in ...</td>\n",
              "      <td>-1</td>\n",
              "    </tr>\n",
              "    <tr>\n",
              "      <th>75994</th>\n",
              "      <td>Peg-Perego Tatamia High Chair, White Latte</td>\n",
              "      <td>I can see why there are so many good reviews o...</td>\n",
              "      <td>2</td>\n",
              "      <td>I can see why there are so many good reviews o...</td>\n",
              "      <td>-1</td>\n",
              "    </tr>\n",
              "    <tr>\n",
              "      <th>10677</th>\n",
              "      <td>Philips AVENT Newborn Starter Set</td>\n",
              "      <td>It's 3am in the morning and needless to say, t...</td>\n",
              "      <td>1</td>\n",
              "      <td>Its 3am in the morning and needless to say thi...</td>\n",
              "      <td>-1</td>\n",
              "    </tr>\n",
              "    <tr>\n",
              "      <th>1116</th>\n",
              "      <td>Safety 1st Deluxe 4-in-1 Bath Station</td>\n",
              "      <td>This item is junk.  I originally chose it beca...</td>\n",
              "      <td>1</td>\n",
              "      <td>This item is junk  I originally chose it becau...</td>\n",
              "      <td>-1</td>\n",
              "    </tr>\n",
              "    <tr>\n",
              "      <th>113995</th>\n",
              "      <td>Motorola Digital Video Baby Monitor with Room ...</td>\n",
              "      <td>DO NOT BUY THIS BABY MONITOR!I purchased this ...</td>\n",
              "      <td>1</td>\n",
              "      <td>DO NOT BUY THIS BABY MONITORI purchased this m...</td>\n",
              "      <td>-1</td>\n",
              "    </tr>\n",
              "  </tbody>\n",
              "</table>\n",
              "</div>"
            ],
            "text/plain": [
              "                                                     name  ... sentiment\n",
              "94560   The First Years True Choice P400 Premium Digit...  ...        -1\n",
              "16042         Fisher-Price Ocean Wonders Aquarium Bouncer  ...        -1\n",
              "155287  VTech Communications Safe &amp; Sounds Full Co...  ...        -1\n",
              "120209  Levana Safe N'See Digital Video Baby Monitor w...  ...        -1\n",
              "48694   Adiri BPA Free Natural Nurser Ultimate Bottle ...  ...        -1\n",
              "95420        One Step Ahead Hide-Away Extra Long Bed Rail  ...        -1\n",
              "53207                 Safety 1st High-Def Digital Monitor  ...        -1\n",
              "176046       Baby Trend Inertia Infant Car Seat - Horizon  ...        -1\n",
              "81332               Cloth Diaper Sprayer--styles may vary  ...        -1\n",
              "167249  Samsung SEW-3037W Wireless Pan Tilt Video Baby...  ...        -1\n",
              "94389                Snuza Portable Baby Movement Monitor  ...        -1\n",
              "59546              Ellaroo Mei Tai Baby Carrier - Hershey  ...        -1\n",
              "76000          Peg-Perego Tatamia High Chair, White Latte  ...        -1\n",
              "31741              Regalo My Cot Portable Bed, Royal Blue  ...        -1\n",
              "77072      Safety 1st Exchangeable Tip 3 in 1 Thermometer  ...        -1\n",
              "96572    Baby Jogger Summit XC Double Stroller, Red/Black  ...        -1\n",
              "75994          Peg-Perego Tatamia High Chair, White Latte  ...        -1\n",
              "10677                   Philips AVENT Newborn Starter Set  ...        -1\n",
              "1116                Safety 1st Deluxe 4-in-1 Bath Station  ...        -1\n",
              "113995  Motorola Digital Video Baby Monitor with Room ...  ...        -1\n",
              "\n",
              "[20 rows x 5 columns]"
            ]
          },
          "execution_count": 28,
          "metadata": {},
          "output_type": "execute_result"
        }
      ],
      "source": [
        "negative_idx = np.argsort(test_scores)[:20]\n",
        "print(negative_idx)\n",
        "print(test_scores[negative_idx[0]])\n",
        "test_data.iloc[negative_idx]"
      ]
    },
    {
      "cell_type": "code",
      "execution_count": null,
      "metadata": {
        "colab": {
          "base_uri": "https://localhost:8080/"
        },
        "id": "C5uqZKrwIbJQ",
        "outputId": "4ea1deb6-e04c-41cd-887a-11d395feffa6"
      },
      "outputs": [
        {
          "name": "stdout",
          "output_type": "stream",
          "text": [
            "correct_num: 31076, total_num: 33336\n",
            "sentiment_model test accuracy: 0.9322054235661147\n"
          ]
        }
      ],
      "source": [
        "test_predicted_y = sentiment_model.predict(test_matrix)\n",
        "correct_num = np.sum(test_predicted_y == test_data['sentiment'])\n",
        "total_num = len(test_data['sentiment'])\n",
        "print (\"correct_num: {}, total_num: {}\".format(correct_num, total_num))\n",
        "test_accuracy = correct_num / total_num\n",
        "print(\"sentiment_model test accuracy: {}\".format(test_accuracy))\n",
        "\n"
      ]
    },
    {
      "cell_type": "code",
      "execution_count": null,
      "metadata": {
        "id": "sj-cuzdPwGFm"
      },
      "outputs": [],
      "source": [
        "significant_words = ['love', 'great', 'easy', 'old', 'little', 'perfect', 'loves', \n",
        "      'well', 'able', 'car', 'broke', 'less', 'even', 'waste', 'disappointed', \n",
        "      'work', 'product', 'money', 'would', 'return']"
      ]
    },
    {
      "cell_type": "code",
      "execution_count": null,
      "metadata": {
        "id": "se9S3Czwy_my"
      },
      "outputs": [],
      "source": [
        "vectorizer_word_subset = CountVectorizer(vocabulary=significant_words) # limit to 20 words\n",
        "train_matrix_word_subset = vectorizer_word_subset.fit_transform(train_data['review_clean'])\n",
        "test_matrix_word_subset = vectorizer_word_subset.transform(test_data['review_clean'])"
      ]
    },
    {
      "cell_type": "code",
      "execution_count": null,
      "metadata": {
        "colab": {
          "base_uri": "https://localhost:8080/"
        },
        "id": "JnhlERqWzG8y",
        "outputId": "53fdab8f-3cea-4174-bb12-eedabfe57d03"
      },
      "outputs": [
        {
          "data": {
            "text/plain": [
              "LogisticRegression()"
            ]
          },
          "execution_count": 42,
          "metadata": {},
          "output_type": "execute_result"
        }
      ],
      "source": [
        "simple_model = LogisticRegression()\n",
        "simple_model.fit(train_matrix_word_subset, train_data['sentiment'])\n"
      ]
    },
    {
      "cell_type": "code",
      "execution_count": null,
      "metadata": {
        "colab": {
          "base_uri": "https://localhost:8080/",
          "height": 676
        },
        "id": "Kpur7zAZ3ndc",
        "outputId": "80dd1859-6c30-4a1e-8017-91fa796e72f5"
      },
      "outputs": [
        {
          "data": {
            "text/html": [
              "<div>\n",
              "<style scoped>\n",
              "    .dataframe tbody tr th:only-of-type {\n",
              "        vertical-align: middle;\n",
              "    }\n",
              "\n",
              "    .dataframe tbody tr th {\n",
              "        vertical-align: top;\n",
              "    }\n",
              "\n",
              "    .dataframe thead th {\n",
              "        text-align: right;\n",
              "    }\n",
              "</style>\n",
              "<table border=\"1\" class=\"dataframe\">\n",
              "  <thead>\n",
              "    <tr style=\"text-align: right;\">\n",
              "      <th></th>\n",
              "      <th>word</th>\n",
              "      <th>coefficient</th>\n",
              "    </tr>\n",
              "  </thead>\n",
              "  <tbody>\n",
              "    <tr>\n",
              "      <th>6</th>\n",
              "      <td>loves</td>\n",
              "      <td>1.673269</td>\n",
              "    </tr>\n",
              "    <tr>\n",
              "      <th>5</th>\n",
              "      <td>perfect</td>\n",
              "      <td>1.510263</td>\n",
              "    </tr>\n",
              "    <tr>\n",
              "      <th>0</th>\n",
              "      <td>love</td>\n",
              "      <td>1.363697</td>\n",
              "    </tr>\n",
              "    <tr>\n",
              "      <th>2</th>\n",
              "      <td>easy</td>\n",
              "      <td>1.192219</td>\n",
              "    </tr>\n",
              "    <tr>\n",
              "      <th>1</th>\n",
              "      <td>great</td>\n",
              "      <td>0.943950</td>\n",
              "    </tr>\n",
              "    <tr>\n",
              "      <th>4</th>\n",
              "      <td>little</td>\n",
              "      <td>0.520174</td>\n",
              "    </tr>\n",
              "    <tr>\n",
              "      <th>7</th>\n",
              "      <td>well</td>\n",
              "      <td>0.503760</td>\n",
              "    </tr>\n",
              "    <tr>\n",
              "      <th>8</th>\n",
              "      <td>able</td>\n",
              "      <td>0.190937</td>\n",
              "    </tr>\n",
              "    <tr>\n",
              "      <th>3</th>\n",
              "      <td>old</td>\n",
              "      <td>0.085424</td>\n",
              "    </tr>\n",
              "    <tr>\n",
              "      <th>9</th>\n",
              "      <td>car</td>\n",
              "      <td>0.058813</td>\n",
              "    </tr>\n",
              "    <tr>\n",
              "      <th>11</th>\n",
              "      <td>less</td>\n",
              "      <td>-0.209348</td>\n",
              "    </tr>\n",
              "    <tr>\n",
              "      <th>16</th>\n",
              "      <td>product</td>\n",
              "      <td>-0.320491</td>\n",
              "    </tr>\n",
              "    <tr>\n",
              "      <th>18</th>\n",
              "      <td>would</td>\n",
              "      <td>-0.362157</td>\n",
              "    </tr>\n",
              "    <tr>\n",
              "      <th>12</th>\n",
              "      <td>even</td>\n",
              "      <td>-0.511456</td>\n",
              "    </tr>\n",
              "    <tr>\n",
              "      <th>15</th>\n",
              "      <td>work</td>\n",
              "      <td>-0.621307</td>\n",
              "    </tr>\n",
              "    <tr>\n",
              "      <th>17</th>\n",
              "      <td>money</td>\n",
              "      <td>-0.898062</td>\n",
              "    </tr>\n",
              "    <tr>\n",
              "      <th>10</th>\n",
              "      <td>broke</td>\n",
              "      <td>-1.652144</td>\n",
              "    </tr>\n",
              "    <tr>\n",
              "      <th>13</th>\n",
              "      <td>waste</td>\n",
              "      <td>-2.034489</td>\n",
              "    </tr>\n",
              "    <tr>\n",
              "      <th>19</th>\n",
              "      <td>return</td>\n",
              "      <td>-2.109815</td>\n",
              "    </tr>\n",
              "    <tr>\n",
              "      <th>14</th>\n",
              "      <td>disappointed</td>\n",
              "      <td>-2.348478</td>\n",
              "    </tr>\n",
              "  </tbody>\n",
              "</table>\n",
              "</div>"
            ],
            "text/plain": [
              "            word  coefficient\n",
              "6          loves     1.673269\n",
              "5        perfect     1.510263\n",
              "0           love     1.363697\n",
              "2           easy     1.192219\n",
              "1          great     0.943950\n",
              "4         little     0.520174\n",
              "7           well     0.503760\n",
              "8           able     0.190937\n",
              "3            old     0.085424\n",
              "9            car     0.058813\n",
              "11          less    -0.209348\n",
              "16       product    -0.320491\n",
              "18         would    -0.362157\n",
              "12          even    -0.511456\n",
              "15          work    -0.621307\n",
              "17         money    -0.898062\n",
              "10         broke    -1.652144\n",
              "13         waste    -2.034489\n",
              "19        return    -2.109815\n",
              "14  disappointed    -2.348478"
            ]
          },
          "execution_count": 44,
          "metadata": {},
          "output_type": "execute_result"
        }
      ],
      "source": [
        "simple_model_coef_table = pd.DataFrame({'word':significant_words,'coefficient':simple_model.coef_.flatten()})\n",
        "simple_model_coef_table.sort_values(['coefficient'], ascending=False)\n"
      ]
    },
    {
      "cell_type": "code",
      "execution_count": null,
      "metadata": {
        "colab": {
          "base_uri": "https://localhost:8080/"
        },
        "id": "hxQKA9K234RA",
        "outputId": "1106f0e1-eff7-4a3f-93e0-c1d37b0bd26e"
      },
      "outputs": [
        {
          "data": {
            "text/plain": [
              "10"
            ]
          },
          "execution_count": 45,
          "metadata": {},
          "output_type": "execute_result"
        }
      ],
      "source": [
        "len(simple_model_coef_table[simple_model_coef_table['coefficient']>0])\n"
      ]
    },
    {
      "cell_type": "code",
      "execution_count": null,
      "metadata": {
        "colab": {
          "base_uri": "https://localhost:8080/"
        },
        "id": "qjbHSFqv5Q2o",
        "outputId": "5aace2d2-5bd7-4b1c-9319-73f1dab4ac2a"
      },
      "outputs": [
        {
          "name": "stdout",
          "output_type": "stream",
          "text": [
            "correct_num: 31076, total_num: 33336\n",
            "sentiment_model test accuracy: 0.9322054235661147\n",
            "correct_num: 28981, total_num: 33336\n",
            "simple_model test accuracy: 0.8693604511639069\n"
          ]
        }
      ],
      "source": [
        "test_predicted_y = sentiment_model.predict(test_matrix)\n",
        "correct_num = np.sum(test_predicted_y == test_data['sentiment'])\n",
        "total_num = len(test_data['sentiment'])\n",
        "print (\"correct_num: {}, total_num: {}\".format(correct_num, total_num))\n",
        "test_accuracy = correct_num / total_num\n",
        "print(\"sentiment_model test accuracy: {}\".format(test_accuracy))\n",
        "\n",
        "test_predicted_y = simple_model.predict(test_matrix_word_subset)\n",
        "correct_num = np.sum(test_predicted_y == test_data['sentiment'])\n",
        "total_num = len(test_data['sentiment'])\n",
        "print (\"correct_num: {}, total_num: {}\".format(correct_num, total_num))\n",
        "test_accuracy = correct_num * 1./ total_num\n",
        "print (\"simple_model test accuracy: {}\".format(test_accuracy))"
      ]
    },
    {
      "cell_type": "code",
      "execution_count": null,
      "metadata": {
        "colab": {
          "base_uri": "https://localhost:8080/"
        },
        "id": "E8U3zEE45YyA",
        "outputId": "51017bef-ffd9-4278-c403-b666ef1ee171"
      },
      "outputs": [
        {
          "name": "stdout",
          "output_type": "stream",
          "text": [
            "correct_num: 126448, total_num: 133416\n",
            "sentiment_model training accuracy: 0.9477723811237033\n",
            "correct_num: 115648, total_num: 133416\n",
            "simple_model training accuracy: 0.8668225700065959\n"
          ]
        }
      ],
      "source": [
        "train_predicted_y = sentiment_model.predict(train_matrix)\n",
        "correct_num = np.sum(train_predicted_y == train_data['sentiment'])\n",
        "total_num = len(train_data['sentiment'])\n",
        "print (\"correct_num: {}, total_num: {}\".format(correct_num, total_num))\n",
        "train_accuracy = correct_num * 1./ total_num\n",
        "print (\"sentiment_model training accuracy: {}\".format(train_accuracy))\n",
        "\n",
        "train_predicted_y = simple_model.predict(train_matrix_word_subset)\n",
        "correct_num = np.sum(train_predicted_y == train_data['sentiment'])\n",
        "total_num = len(train_data['sentiment'])\n",
        "print (\"correct_num: {}, total_num: {}\".format(correct_num, total_num))\n",
        "train_accuracy = correct_num * 1./ total_num\n",
        "print (\"simple_model training accuracy: {}\".format(train_accuracy))"
      ]
    },
    {
      "cell_type": "code",
      "execution_count": null,
      "metadata": {
        "colab": {
          "base_uri": "https://localhost:8080/"
        },
        "id": "Op15QXkD6zAb",
        "outputId": "23116361-5ebc-4657-db45-8f1b10965c94"
      },
      "outputs": [
        {
          "name": "stdout",
          "output_type": "stream",
          "text": [
            "positive_label is 28095, negative_label is 5241\n"
          ]
        }
      ],
      "source": [
        "positive_label = len(test_data[test_data['sentiment']>0])\n",
        "negative_label = len(test_data[test_data['sentiment']<0])\n",
        "print( \"positive_label is {}, negative_label is {}\".format(positive_label, negative_label))"
      ]
    },
    {
      "cell_type": "code",
      "execution_count": null,
      "metadata": {
        "colab": {
          "base_uri": "https://localhost:8080/"
        },
        "id": "NQX6LJXX9AXk",
        "outputId": "a53c7621-15bf-47ca-d3b0-0619253d1eec"
      },
      "outputs": [
        {
          "name": "stdout",
          "output_type": "stream",
          "text": [
            "baseline_accuracy is 0.8427825773938085\n"
          ]
        }
      ],
      "source": [
        "baseline_accuracy = positive_label*1./(positive_label+negative_label)\n",
        "print (\"baseline_accuracy is {}\".format(baseline_accuracy))\n"
      ]
    },
    {
      "cell_type": "code",
      "execution_count": null,
      "metadata": {
        "id": "Y8ncHXj_9LVh"
      },
      "outputs": [],
      "source": []
    }
  ],
  "metadata": {
    "colab": {
      "name": "Predicting sentiment from product reviews.ipynb",
      "provenance": []
    },
    "kernelspec": {
      "display_name": "Python 3",
      "name": "python3"
    },
    "language_info": {
      "name": "python"
    }
  },
  "nbformat": 4,
  "nbformat_minor": 0
}
